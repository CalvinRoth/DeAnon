{
 "cells": [
  {
   "cell_type": "markdown",
   "metadata": {},
   "source": [
    "## School dataset attack"
   ]
  },
  {
   "cell_type": "code",
   "execution_count": 1,
   "metadata": {},
   "outputs": [],
   "source": [
    "import numpy as np \n",
    "import pandas as pd \n",
    "import matplotlib.pyplot as plt \n",
    "import networkx as nx\n",
    "import attack.distance_vec as dist \n",
    "import sys\n",
    "import pickle\n",
    "import os"
   ]
  },
  {
   "cell_type": "code",
   "execution_count": 2,
   "metadata": {},
   "outputs": [],
   "source": [
    "schoolName = \"../data/SchoolData/\""
   ]
  },
  {
   "cell_type": "markdown",
   "metadata": {},
   "source": [
    "# Landmark identification Rate"
   ]
  },
  {
   "cell_type": "code",
   "execution_count": 3,
   "metadata": {},
   "outputs": [],
   "source": [
    "n_file = 0\n",
    "for name in os.listdir(\"../data/SchoolData/\"): n_file += 1 "
   ]
  },
  {
   "cell_type": "code",
   "execution_count": 49,
   "metadata": {},
   "outputs": [],
   "source": [
    "DEBUG_1 = True\n",
    "if(DEBUG_1):\n",
    "    accuracies = np.zeros((20,n_file))\n",
    "    l = 0 \n",
    "    for name in os.listdir(\"../data/SchoolData/\"):\n",
    "        full_name = schoolName + name\n",
    "        infile = open(full_name, \"rb\")\n",
    "        data = pickle.load(infile)\n",
    "        G1 = nx.DiGraph(data[\"A1\"])\n",
    "        G2 = nx.DiGraph(data[\"A2\"])\n",
    "        lands1 = dist.find_landmarks(G1, 20)\n",
    "        lands2 = dist.find_landmarks(G2, 20)\n",
    "        for k in range(1, 20):\n",
    "            set1 = set(lands1[:k])\n",
    "            set2 = set(lands2[:k])\n",
    "            accuracies[k, l] = len(set1.intersection(set2)) / k \n",
    "        l += 1"
   ]
  },
  {
   "cell_type": "markdown",
   "metadata": {},
   "source": [
    "## Distance Vector"
   ]
  },
  {
   "cell_type": "markdown",
   "metadata": {},
   "source": [
    "## School Data: full method"
   ]
  },
  {
   "cell_type": "code",
   "execution_count": 19,
   "metadata": {},
   "outputs": [],
   "source": [
    "def n_correct(matching):\n",
    "    return np.sum(np.diag(matching[0]))"
   ]
  },
  {
   "cell_type": "code",
   "execution_count": 51,
   "metadata": {},
   "outputs": [
    {
     "name": "stdout",
     "output_type": "stream",
     "text": [
      "Now processing: School29data.pkl\n",
      "Now processing: School1data.pkl\n",
      "Now processing: School42data.pkl\n",
      "Now processing: School20data.pkl\n",
      "Now processing: School31data.pkl\n",
      "Now processing: School21data.pkl\n",
      "Now processing: School51data.pkl\n",
      "Now processing: School58data.pkl\n",
      "Now processing: School48data.pkl\n",
      "Now processing: School49data.pkl\n",
      "Now processing: School22data.pkl\n",
      "Now processing: School40data.pkl\n",
      "Now processing: School3data.pkl\n",
      "Now processing: School27data.pkl\n",
      "Now processing: School45data.pkl\n",
      "Now processing: School10data.pkl\n",
      "Now processing: School19data.pkl\n",
      "Now processing: School26data.pkl\n",
      "Now processing: School44data.pkl\n",
      "Now processing: School60data.pkl\n",
      "Now processing: School56data.pkl\n",
      "Now processing: School24data.pkl\n",
      "Now processing: School34data.pkl\n",
      "Now processing: School35data.pkl\n",
      "Now processing: School13data.pkl\n"
     ]
    }
   ],
   "source": [
    "accuracies = np.zeros((10,n_file))\n",
    "\n",
    "l = 0 \n",
    "for name in os.listdir(\"../data/SchoolData/\"):\n",
    "    print(\"Now processing:\", name)\n",
    "    full_name = schoolName + name\n",
    "    infile = open(full_name, \"rb\")\n",
    "    data = pickle.load(infile)\n",
    "    G1 = nx.DiGraph(data[\"A1\"])\n",
    "    G2 = nx.DiGraph(data[\"A2\"])\n",
    "    lands1 = dist.find_landmarks(G1, 50)\n",
    "    lands2 = dist.find_landmarks(G2, 50)\n",
    "    for k in range(5, 50, 5):\n",
    "        W = dist.generate_scores(G1, G2, lands1[:k], lands2[:k])\n",
    "        match = dist.find_matching(W, lands1[:k], lands2[:k])\n",
    "        accuracies[k//5,l] = n_correct(match) / len(match[0])\n",
    "    l += 1"
   ]
  },
  {
   "cell_type": "code",
   "execution_count": 196,
   "metadata": {},
   "outputs": [
    {
     "data": {
      "text/plain": [
       "0.03271028037383177"
      ]
     },
     "execution_count": 196,
     "metadata": {},
     "output_type": "execute_result"
    }
   ],
   "source": [
    "np.max(accuracies)"
   ]
  },
  {
   "cell_type": "markdown",
   "metadata": {},
   "source": [
    "## School Data Artificial seeds"
   ]
  },
  {
   "cell_type": "code",
   "execution_count": 33,
   "metadata": {},
   "outputs": [
    {
     "name": "stdout",
     "output_type": "stream",
     "text": [
      "Now processing: School29data.pkl\n",
      "Now processing: School1data.pkl\n",
      "Now processing: School42data.pkl\n",
      "Now processing: School20data.pkl\n",
      "Now processing: School31data.pkl\n",
      "Now processing: School21data.pkl\n",
      "Now processing: School51data.pkl\n",
      "Now processing: School58data.pkl\n",
      "Now processing: School48data.pkl\n",
      "Now processing: School49data.pkl\n",
      "Now processing: School22data.pkl\n",
      "Now processing: School40data.pkl\n",
      "Now processing: School3data.pkl\n",
      "Now processing: School27data.pkl\n",
      "Now processing: School45data.pkl\n",
      "Now processing: School10data.pkl\n",
      "Now processing: School19data.pkl\n",
      "Now processing: School26data.pkl\n",
      "Now processing: School44data.pkl\n",
      "Now processing: School60data.pkl\n",
      "Now processing: School56data.pkl\n",
      "Now processing: School24data.pkl\n",
      "Now processing: School34data.pkl\n",
      "Now processing: School35data.pkl\n",
      "Now processing: School13data.pkl\n"
     ]
    }
   ],
   "source": [
    "accuracies2 = np.zeros((n_file))\n",
    "\n",
    "l = 0 \n",
    "for name in os.listdir(\"../data/SchoolData/\"):\n",
    "    print(\"Now processing:\", name)\n",
    "    full_name = schoolName + name\n",
    "    infile = open(full_name, \"rb\")\n",
    "    data = pickle.load(infile)\n",
    "    G1 = nx.DiGraph(data[\"A1\"])\n",
    "    G2 = nx.DiGraph(data[\"A2\"])\n",
    "    seeds = np.random.choice([i for i in range(len(G1))], size=50)\n",
    "    #for k in range(5, 50, 5):\n",
    "    k = 50\n",
    "    W = dist.generate_scores(G1, G2, seeds[:k], seeds[:k])\n",
    "    match = dist.find_matching(W, seeds[:k], seeds[:k])\n",
    "    accuracies2[l] = n_correct(match) / len(match[0])\n",
    "    l += 1"
   ]
  },
  {
   "cell_type": "code",
   "execution_count": 35,
   "metadata": {},
   "outputs": [
    {
     "data": {
      "text/plain": [
       "(0.2753340905978081, 0.5892857142857143, 0.14849624060150377)"
      ]
     },
     "execution_count": 35,
     "metadata": {},
     "output_type": "execute_result"
    }
   ],
   "source": [
    "np.mean(accuracies2), np.max(accuracies2), np.min(accuracies2)"
   ]
  },
  {
   "cell_type": "markdown",
   "metadata": {},
   "source": [
    "## St andrews Data"
   ]
  },
  {
   "cell_type": "code",
   "execution_count": 39,
   "metadata": {},
   "outputs": [
    {
     "ename": "IndexError",
     "evalue": "index 17 is out of bounds for axis 1 with size 16",
     "output_type": "error",
     "traceback": [
      "\u001b[0;31m---------------------------------------------------------------------------\u001b[0m",
      "\u001b[0;31mIndexError\u001b[0m                                Traceback (most recent call last)",
      "Cell \u001b[0;32mIn[39], line 8\u001b[0m\n\u001b[1;32m      6\u001b[0m lands1 \u001b[38;5;241m=\u001b[39m dist\u001b[38;5;241m.\u001b[39mfind_landmarks(G1, k)\n\u001b[1;32m      7\u001b[0m lands2 \u001b[38;5;241m=\u001b[39m dist\u001b[38;5;241m.\u001b[39mfind_landmarks(G2, k)\n\u001b[0;32m----> 8\u001b[0m W \u001b[38;5;241m=\u001b[39m \u001b[43mdist\u001b[49m\u001b[38;5;241;43m.\u001b[39;49m\u001b[43mgenerate_scores\u001b[49m\u001b[43m(\u001b[49m\u001b[43mG1\u001b[49m\u001b[43m,\u001b[49m\u001b[43m \u001b[49m\u001b[43mG2\u001b[49m\u001b[43m,\u001b[49m\u001b[43m \u001b[49m\u001b[43mlands1\u001b[49m\u001b[43m[\u001b[49m\u001b[43m:\u001b[49m\u001b[43mk\u001b[49m\u001b[43m]\u001b[49m\u001b[43m,\u001b[49m\u001b[43m \u001b[49m\u001b[43mlands2\u001b[49m\u001b[43m[\u001b[49m\u001b[43m:\u001b[49m\u001b[43mk\u001b[49m\u001b[43m]\u001b[49m\u001b[43m)\u001b[49m\n\u001b[1;32m      9\u001b[0m match \u001b[38;5;241m=\u001b[39m dist\u001b[38;5;241m.\u001b[39mfind_matching(W, lands1[:k], lands2[:k])\n\u001b[1;32m     10\u001b[0m accuracies3[k] \u001b[38;5;241m=\u001b[39m n_correct(match)\u001b[38;5;241m/\u001b[39m\u001b[38;5;28mlen\u001b[39m(G1)\n",
      "File \u001b[0;32m~/projects/DeAnon/attack/distance_vec.py:34\u001b[0m, in \u001b[0;36mgenerate_scores\u001b[0;34m(G_anon, G_pub, lands_anon, lands_pub)\u001b[0m\n\u001b[1;32m     32\u001b[0m D_anon \u001b[38;5;241m=\u001b[39m nx\u001b[38;5;241m.\u001b[39mall_pairs_shortest_path_length(G_anon)\n\u001b[1;32m     33\u001b[0m D_pub \u001b[38;5;241m=\u001b[39m nx\u001b[38;5;241m.\u001b[39mall_pairs_shortest_path_length(G_pub)\n\u001b[0;32m---> 34\u001b[0m D_anon \u001b[38;5;241m=\u001b[39m \u001b[43mto_matrix\u001b[49m\u001b[43m(\u001b[49m\u001b[43mD_anon\u001b[49m\u001b[43m,\u001b[49m\u001b[43m \u001b[49m\u001b[43mn1\u001b[49m\u001b[43m)\u001b[49m\n\u001b[1;32m     35\u001b[0m D_pub \u001b[38;5;241m=\u001b[39m to_matrix(D_pub, n2)\n\u001b[1;32m     36\u001b[0m weights \u001b[38;5;241m=\u001b[39m np\u001b[38;5;241m.\u001b[39mzeros((n1, n2))\n",
      "File \u001b[0;32m~/projects/DeAnon/attack/distance_vec.py:15\u001b[0m, in \u001b[0;36mto_matrix\u001b[0;34m(D, ln)\u001b[0m\n\u001b[1;32m     13\u001b[0m \u001b[38;5;28;01mfor\u001b[39;00m i \u001b[38;5;129;01min\u001b[39;00m D: \n\u001b[1;32m     14\u001b[0m     \u001b[38;5;28;01mfor\u001b[39;00m j \u001b[38;5;129;01min\u001b[39;00m i[\u001b[38;5;241m1\u001b[39m]:\n\u001b[0;32m---> 15\u001b[0m         \u001b[43mresults\u001b[49m\u001b[43m[\u001b[49m\u001b[38;5;28;43mint\u001b[39;49m\u001b[43m(\u001b[49m\u001b[43mi\u001b[49m\u001b[43m[\u001b[49m\u001b[38;5;241;43m0\u001b[39;49m\u001b[43m]\u001b[49m\u001b[43m)\u001b[49m\u001b[43m,\u001b[49m\u001b[38;5;28;43mint\u001b[39;49m\u001b[43m(\u001b[49m\u001b[43mj\u001b[49m\u001b[43m)\u001b[49m\u001b[43m]\u001b[49m \u001b[38;5;241m=\u001b[39m i[\u001b[38;5;241m1\u001b[39m][j]\n\u001b[1;32m     16\u001b[0m \u001b[38;5;28;01mreturn\u001b[39;00m results\n",
      "\u001b[0;31mIndexError\u001b[0m: index 17 is out of bounds for axis 1 with size 16"
     ]
    }
   ],
   "source": [
    "G1 = nx.read_adjlist(\"../data/local_data.txt\", nodetype=int)\n",
    "G2 = nx.read_adjlist(\"../data/social_network.txt\", nodetype=int)\n",
    "accuracies3 = {}\n",
    "\n",
    "for k in [2,4,6,8,10,12]:\n",
    "    lands1 = dist.find_landmarks(G1, k)\n",
    "    lands2 = dist.find_landmarks(G2, k)\n",
    "    W = dist.generate_scores(G1, G2, lands1[:k], lands2[:k])\n",
    "    match = dist.find_matching(W, lands1[:k], lands2[:k])\n",
    "    accuracies3[k] = n_correct(match)/len(G1)"
   ]
  },
  {
   "cell_type": "code",
   "execution_count": 21,
   "metadata": {},
   "outputs": [
    {
     "data": {
      "text/plain": [
       "array([0., 0., 0., 0., 0., 1., 0., 0., 0., 0., 0., 0., 0., 0., 0., 1., 0.,\n",
       "       0., 0., 0., 0., 0., 0., 0., 0.])"
      ]
     },
     "execution_count": 21,
     "metadata": {},
     "output_type": "execute_result"
    }
   ],
   "source": [
    "np.diag(match[0])"
   ]
  },
  {
   "cell_type": "code",
   "execution_count": 22,
   "metadata": {},
   "outputs": [
    {
     "data": {
      "text/plain": [
       "{2: 0.04, 4: 0.04, 6: 0.0, 8: 0.08, 10: 0.0, 12: 0.08}"
      ]
     },
     "execution_count": 22,
     "metadata": {},
     "output_type": "execute_result"
    }
   ],
   "source": [
    "accuracies3"
   ]
  },
  {
   "cell_type": "markdown",
   "metadata": {},
   "source": [
    "## St Andrews Artificial seeds"
   ]
  },
  {
   "cell_type": "code",
   "execution_count": 41,
   "metadata": {},
   "outputs": [],
   "source": [
    "G1 = nx.read_edgelist(\"../data/local_data.txt\", nodetype=int)\n",
    "G2 = nx.read_edgelist(\"../data/social_network.txt\", nodetype=int)"
   ]
  },
  {
   "cell_type": "code",
   "execution_count": 42,
   "metadata": {},
   "outputs": [
    {
     "data": {
      "text/plain": [
       "(16, 25)"
      ]
     },
     "execution_count": 42,
     "metadata": {},
     "output_type": "execute_result"
    }
   ],
   "source": [
    "G1.number_of_nodes(), G2.number_of_nodes()"
   ]
  },
  {
   "cell_type": "code",
   "execution_count": 40,
   "metadata": {},
   "outputs": [
    {
     "ename": "IndexError",
     "evalue": "index 17 is out of bounds for axis 1 with size 16",
     "output_type": "error",
     "traceback": [
      "\u001b[0;31m---------------------------------------------------------------------------\u001b[0m",
      "\u001b[0;31mIndexError\u001b[0m                                Traceback (most recent call last)",
      "Cell \u001b[0;32mIn[40], line 8\u001b[0m\n\u001b[1;32m      5\u001b[0m seeds \u001b[38;5;241m=\u001b[39m np\u001b[38;5;241m.\u001b[39mrandom\u001b[38;5;241m.\u001b[39mchoice([i \u001b[38;5;28;01mfor\u001b[39;00m i \u001b[38;5;129;01min\u001b[39;00m \u001b[38;5;28mrange\u001b[39m(\u001b[38;5;28mlen\u001b[39m(G1))],size\u001b[38;5;241m=\u001b[39m\u001b[38;5;28mlen\u001b[39m(G1))\n\u001b[1;32m      7\u001b[0m \u001b[38;5;28;01mfor\u001b[39;00m k \u001b[38;5;129;01min\u001b[39;00m [\u001b[38;5;241m2\u001b[39m,\u001b[38;5;241m4\u001b[39m,\u001b[38;5;241m6\u001b[39m,\u001b[38;5;241m8\u001b[39m,\u001b[38;5;241m10\u001b[39m,\u001b[38;5;241m12\u001b[39m]:\n\u001b[0;32m----> 8\u001b[0m     W \u001b[38;5;241m=\u001b[39m \u001b[43mdist\u001b[49m\u001b[38;5;241;43m.\u001b[39;49m\u001b[43mgenerate_scores\u001b[49m\u001b[43m(\u001b[49m\u001b[43mG1\u001b[49m\u001b[43m,\u001b[49m\u001b[43m \u001b[49m\u001b[43mG2\u001b[49m\u001b[43m,\u001b[49m\u001b[43m \u001b[49m\u001b[43mseeds\u001b[49m\u001b[43m[\u001b[49m\u001b[43m:\u001b[49m\u001b[43mk\u001b[49m\u001b[43m]\u001b[49m\u001b[43m,\u001b[49m\u001b[43m \u001b[49m\u001b[43mseeds\u001b[49m\u001b[43m[\u001b[49m\u001b[43m:\u001b[49m\u001b[43mk\u001b[49m\u001b[43m]\u001b[49m\u001b[43m)\u001b[49m\n\u001b[1;32m      9\u001b[0m     match \u001b[38;5;241m=\u001b[39m dist\u001b[38;5;241m.\u001b[39mfind_matching(W, seeds[:k], seeds[:k])\n\u001b[1;32m     10\u001b[0m     accuracies4[k] \u001b[38;5;241m=\u001b[39m n_correct(match)\n",
      "File \u001b[0;32m~/projects/DeAnon/attack/distance_vec.py:34\u001b[0m, in \u001b[0;36mgenerate_scores\u001b[0;34m(G_anon, G_pub, lands_anon, lands_pub)\u001b[0m\n\u001b[1;32m     32\u001b[0m D_anon \u001b[38;5;241m=\u001b[39m nx\u001b[38;5;241m.\u001b[39mall_pairs_shortest_path_length(G_anon)\n\u001b[1;32m     33\u001b[0m D_pub \u001b[38;5;241m=\u001b[39m nx\u001b[38;5;241m.\u001b[39mall_pairs_shortest_path_length(G_pub)\n\u001b[0;32m---> 34\u001b[0m D_anon \u001b[38;5;241m=\u001b[39m \u001b[43mto_matrix\u001b[49m\u001b[43m(\u001b[49m\u001b[43mD_anon\u001b[49m\u001b[43m,\u001b[49m\u001b[43m \u001b[49m\u001b[43mn1\u001b[49m\u001b[43m)\u001b[49m\n\u001b[1;32m     35\u001b[0m D_pub \u001b[38;5;241m=\u001b[39m to_matrix(D_pub, n2)\n\u001b[1;32m     36\u001b[0m weights \u001b[38;5;241m=\u001b[39m np\u001b[38;5;241m.\u001b[39mzeros((n1, n2))\n",
      "File \u001b[0;32m~/projects/DeAnon/attack/distance_vec.py:15\u001b[0m, in \u001b[0;36mto_matrix\u001b[0;34m(D, ln)\u001b[0m\n\u001b[1;32m     13\u001b[0m \u001b[38;5;28;01mfor\u001b[39;00m i \u001b[38;5;129;01min\u001b[39;00m D: \n\u001b[1;32m     14\u001b[0m     \u001b[38;5;28;01mfor\u001b[39;00m j \u001b[38;5;129;01min\u001b[39;00m i[\u001b[38;5;241m1\u001b[39m]:\n\u001b[0;32m---> 15\u001b[0m         \u001b[43mresults\u001b[49m\u001b[43m[\u001b[49m\u001b[38;5;28;43mint\u001b[39;49m\u001b[43m(\u001b[49m\u001b[43mi\u001b[49m\u001b[43m[\u001b[49m\u001b[38;5;241;43m0\u001b[39;49m\u001b[43m]\u001b[49m\u001b[43m)\u001b[49m\u001b[43m,\u001b[49m\u001b[38;5;28;43mint\u001b[39;49m\u001b[43m(\u001b[49m\u001b[43mj\u001b[49m\u001b[43m)\u001b[49m\u001b[43m]\u001b[49m \u001b[38;5;241m=\u001b[39m i[\u001b[38;5;241m1\u001b[39m][j]\n\u001b[1;32m     16\u001b[0m \u001b[38;5;28;01mreturn\u001b[39;00m results\n",
      "\u001b[0;31mIndexError\u001b[0m: index 17 is out of bounds for axis 1 with size 16"
     ]
    }
   ],
   "source": [
    "G1 = nx.read_edgelist(\"../data/local_data.txt\", nodetype=int)\n",
    "G2 = nx.read_edgelist(\"../data/social_network.txt\", nodetype=int)\n",
    "accuracies4 = {}\n",
    "\n",
    "seeds = np.random.choice([i for i in range(len(G1))],size=len(G1))\n",
    "\n",
    "for k in [2,4,6,8,10,12]:\n",
    "    W = dist.generate_scores(G1, G2, seeds[:k], seeds[:k])\n",
    "    match = dist.find_matching(W, seeds[:k], seeds[:k])\n",
    "    accuracies4[k] = n_correct(match)"
   ]
  },
  {
   "cell_type": "code",
   "execution_count": 37,
   "metadata": {},
   "outputs": [
    {
     "data": {
      "text/plain": [
       "{}"
      ]
     },
     "execution_count": 37,
     "metadata": {},
     "output_type": "execute_result"
    }
   ],
   "source": [
    "accuracies4"
   ]
  },
  {
   "cell_type": "markdown",
   "metadata": {},
   "source": [
    "## Email eu Core"
   ]
  },
  {
   "cell_type": "code",
   "execution_count": 65,
   "metadata": {},
   "outputs": [],
   "source": [
    "G1 = nx.read_edgelist(\"data/email-Eu-core.txt\", nodetype=int)\n",
    "G2 = nx.read_edgelist(\"results/anon_graph.txt\", nodetype=int)\n",
    "answer = pd.read_csv(\"results/answers.txt\", sep=\" \", header= None )"
   ]
  },
  {
   "cell_type": "code",
   "execution_count": 66,
   "metadata": {},
   "outputs": [
    {
     "data": {
      "text/html": [
       "<div>\n",
       "<style scoped>\n",
       "    .dataframe tbody tr th:only-of-type {\n",
       "        vertical-align: middle;\n",
       "    }\n",
       "\n",
       "    .dataframe tbody tr th {\n",
       "        vertical-align: top;\n",
       "    }\n",
       "\n",
       "    .dataframe thead th {\n",
       "        text-align: right;\n",
       "    }\n",
       "</style>\n",
       "<table border=\"1\" class=\"dataframe\">\n",
       "  <thead>\n",
       "    <tr style=\"text-align: right;\">\n",
       "      <th></th>\n",
       "      <th>0</th>\n",
       "      <th>1</th>\n",
       "    </tr>\n",
       "  </thead>\n",
       "  <tbody>\n",
       "    <tr>\n",
       "      <th>0</th>\n",
       "      <td>0</td>\n",
       "      <td>710</td>\n",
       "    </tr>\n",
       "    <tr>\n",
       "      <th>1</th>\n",
       "      <td>1</td>\n",
       "      <td>666</td>\n",
       "    </tr>\n",
       "    <tr>\n",
       "      <th>2</th>\n",
       "      <td>2</td>\n",
       "      <td>298</td>\n",
       "    </tr>\n",
       "    <tr>\n",
       "      <th>3</th>\n",
       "      <td>3</td>\n",
       "      <td>356</td>\n",
       "    </tr>\n",
       "    <tr>\n",
       "      <th>4</th>\n",
       "      <td>4</td>\n",
       "      <td>571</td>\n",
       "    </tr>\n",
       "    <tr>\n",
       "      <th>...</th>\n",
       "      <td>...</td>\n",
       "      <td>...</td>\n",
       "    </tr>\n",
       "    <tr>\n",
       "      <th>1000</th>\n",
       "      <td>1000</td>\n",
       "      <td>835</td>\n",
       "    </tr>\n",
       "    <tr>\n",
       "      <th>1001</th>\n",
       "      <td>1001</td>\n",
       "      <td>192</td>\n",
       "    </tr>\n",
       "    <tr>\n",
       "      <th>1002</th>\n",
       "      <td>1002</td>\n",
       "      <td>629</td>\n",
       "    </tr>\n",
       "    <tr>\n",
       "      <th>1003</th>\n",
       "      <td>1003</td>\n",
       "      <td>559</td>\n",
       "    </tr>\n",
       "    <tr>\n",
       "      <th>1004</th>\n",
       "      <td>1004</td>\n",
       "      <td>684</td>\n",
       "    </tr>\n",
       "  </tbody>\n",
       "</table>\n",
       "<p>1005 rows × 2 columns</p>\n",
       "</div>"
      ],
      "text/plain": [
       "         0    1\n",
       "0        0  710\n",
       "1        1  666\n",
       "2        2  298\n",
       "3        3  356\n",
       "4        4  571\n",
       "...    ...  ...\n",
       "1000  1000  835\n",
       "1001  1001  192\n",
       "1002  1002  629\n",
       "1003  1003  559\n",
       "1004  1004  684\n",
       "\n",
       "[1005 rows x 2 columns]"
      ]
     },
     "execution_count": 66,
     "metadata": {},
     "output_type": "execute_result"
    }
   ],
   "source": [
    "answer"
   ]
  },
  {
   "cell_type": "code",
   "execution_count": 67,
   "metadata": {},
   "outputs": [],
   "source": [
    "accuracies5 = {}\n",
    "\n",
    "for k in [10,15,20,25,30,35,40,45,50]:\n",
    "    lands1 = dist.find_landmarks(G1, k)\n",
    "    lands2 = dist.find_landmarks(G2, k)\n",
    "    W = dist.generate_scores(G1, G2, lands1[:k], lands2[:k])\n",
    "    match = dist.find_matching(W, lands1[:k], lands2[:k])\n",
    "    score = 0 \n",
    "    for i in range(len(match[0])):\n",
    "        score += (np.argmax(match[0][i,:]) == answer[1].iloc[i])\n",
    "    accuracies5[k] = score "
   ]
  },
  {
   "cell_type": "code",
   "execution_count": 195,
   "metadata": {},
   "outputs": [
    {
     "data": {
      "text/plain": [
       "0.945273631840796"
      ]
     },
     "execution_count": 195,
     "metadata": {},
     "output_type": "execute_result"
    }
   ],
   "source": [
    "950/1005"
   ]
  },
  {
   "cell_type": "markdown",
   "metadata": {},
   "source": [
    "# Method 2\n"
   ]
  },
  {
   "cell_type": "code",
   "execution_count": 4,
   "metadata": {},
   "outputs": [],
   "source": [
    "import attack.sample as sample"
   ]
  },
  {
   "cell_type": "markdown",
   "metadata": {},
   "source": [
    "# Email EU"
   ]
  },
  {
   "cell_type": "code",
   "execution_count": 43,
   "metadata": {},
   "outputs": [
    {
     "name": "stdout",
     "output_type": "stream",
     "text": [
      "Iteration  0  has: True\n",
      "Iteration  1  has: False\n"
     ]
    }
   ],
   "source": [
    "import attack.sample as sample\n",
    "G1 = nx.read_edgelist(\"data/email-Eu-core.txt\", nodetype=int)\n",
    "G2 = nx.read_edgelist(\"results/anon_graph.txt\", nodetype=int)\n",
    "answer = pd.read_csv(\"results/answers.txt\", sep=\" \", header= None )\n",
    "\n",
    "\n",
    "lands1 = dist.find_landmarks(G1, 40)\n",
    "lands2 = dist.find_landmarks(G2, 40)\n",
    "lands_map = {lands1[i] : lands2[i] for i in range(40)}\n",
    "mapping = sample.deAnon(G1,G2,lands_map,20)\n"
   ]
  },
  {
   "cell_type": "code",
   "execution_count": 6,
   "metadata": {},
   "outputs": [
    {
     "data": {
      "text/plain": [
       "138"
      ]
     },
     "execution_count": 6,
     "metadata": {},
     "output_type": "execute_result"
    }
   ],
   "source": [
    "len(mapping)"
   ]
  },
  {
   "cell_type": "code",
   "execution_count": 7,
   "metadata": {},
   "outputs": [],
   "source": [
    "score = 0 \n",
    "for i in mapping: \n",
    "    a = answer[0].iloc[i]\n",
    "    b = answer[1].iloc[i]\n",
    "    if(i != a): \n",
    "        print(\"mmmmmm\")\n",
    "    else:\n",
    "        score += (b == mapping[i])"
   ]
  },
  {
   "cell_type": "code",
   "execution_count": 8,
   "metadata": {},
   "outputs": [
    {
     "data": {
      "text/plain": [
       "0.9637681159420289"
      ]
     },
     "execution_count": 8,
     "metadata": {},
     "output_type": "execute_result"
    }
   ],
   "source": [
    "score / len(mapping)"
   ]
  },
  {
   "cell_type": "markdown",
   "metadata": {},
   "source": [
    "## St andrews "
   ]
  },
  {
   "cell_type": "code",
   "execution_count": 23,
   "metadata": {},
   "outputs": [
    {
     "name": "stdout",
     "output_type": "stream",
     "text": [
      "Iteration  0  has: True\n",
      "Iteration  1  has: False\n",
      "Iteration  0  has: True\n",
      "Iteration  1  has: False\n",
      "Iteration  0  has: True\n",
      "Iteration  1  has: False\n",
      "Iteration  0  has: True\n",
      "Iteration  1  has: False\n",
      "Iteration  0  has: True\n",
      "Iteration  1  has: False\n"
     ]
    }
   ],
   "source": [
    "G1 = nx.read_adjlist(\"../data/local_data.txt\", nodetype=int)\n",
    "G2 = nx.read_adjlist(\"../data/social_network.txt\", nodetype=int)\n",
    "\n",
    "accuracies7 = {}\n",
    "\n",
    "for k in [2,4,6,8,10]:\n",
    "    lands1 = dist.find_landmarks(G1, k)\n",
    "    lands2 = dist.find_landmarks(G2, k)\n",
    "    lands_map = {lands1[i] : lands2[i] for i in range(k)}\n",
    "    mapping = sample.deAnon(G1,G2,lands_map,k)\n",
    "    s = 0 \n",
    "    for i in mapping:\n",
    "        s += (mapping[i] == i)\n",
    "    accuracies7[k] = s\n"
   ]
  },
  {
   "cell_type": "code",
   "execution_count": 24,
   "metadata": {},
   "outputs": [
    {
     "data": {
      "text/plain": [
       "{2: 0, 4: 0, 6: 0, 8: 0, 10: 0}"
      ]
     },
     "execution_count": 24,
     "metadata": {},
     "output_type": "execute_result"
    }
   ],
   "source": [
    "accuracies7"
   ]
  },
  {
   "cell_type": "markdown",
   "metadata": {},
   "source": [
    "## With Artificial Seeds"
   ]
  },
  {
   "cell_type": "code",
   "execution_count": 25,
   "metadata": {},
   "outputs": [
    {
     "name": "stdout",
     "output_type": "stream",
     "text": [
      "Iteration  0  has: True\n",
      "Iteration  1  has: True\n",
      "Iteration  0  has: True\n",
      "Iteration  1  has: False\n",
      "Iteration  0  has: False\n",
      "Iteration  0  has: False\n",
      "Iteration  0  has: False\n"
     ]
    }
   ],
   "source": [
    "seeds = np.random.choice([i for i in range(len(G1))], size=len(G1))\n",
    "G1 = nx.read_adjlist(\"../data/local_data.txt\", nodetype=int)\n",
    "G2 = nx.read_adjlist(\"../data/social_network.txt\", nodetype=int)\n",
    "\n",
    "accuracies8 = {}\n",
    "\n",
    "for k in [2,4,6,8,10]:\n",
    "    lands_map = {seeds[i] : seeds[i] for i in range(k)}\n",
    "    mapping = sample.deAnon(G1,G2,lands_map,k)\n",
    "    s = 0 \n",
    "    for i in mapping:\n",
    "        s += (mapping[i] == i)\n",
    "    accuracies8[k] = s"
   ]
  },
  {
   "cell_type": "code",
   "execution_count": 26,
   "metadata": {},
   "outputs": [
    {
     "data": {
      "text/plain": [
       "{2: 3, 4: 4, 6: 6, 8: 7, 10: 8}"
      ]
     },
     "execution_count": 26,
     "metadata": {},
     "output_type": "execute_result"
    }
   ],
   "source": [
    "accuracies8"
   ]
  },
  {
   "cell_type": "code",
   "execution_count": 10,
   "metadata": {},
   "outputs": [],
   "source": [
    "def match_correct(mapping):\n",
    "    s = 0 \n",
    "    for i in mapping:\n",
    "        s += (i == mapping[i])\n",
    "    return s "
   ]
  },
  {
   "cell_type": "code",
   "execution_count": 14,
   "metadata": {},
   "outputs": [
    {
     "name": "stdout",
     "output_type": "stream",
     "text": [
      "Now processing: School29data.pkl\n",
      "Iteration  0  has: False\n",
      "Now processing: School1data.pkl\n",
      "Iteration  0  has: False\n",
      "Now processing: School42data.pkl\n",
      "Iteration  0  has: False\n",
      "Now processing: School20data.pkl\n",
      "Iteration  0  has: True\n",
      "Iteration  1  has: False\n",
      "Now processing: School31data.pkl\n",
      "Iteration  0  has: False\n",
      "Now processing: School21data.pkl\n",
      "Iteration  0  has: False\n",
      "Now processing: School51data.pkl\n",
      "Iteration  0  has: False\n",
      "Now processing: School58data.pkl\n",
      "Iteration  0  has: False\n",
      "Now processing: School48data.pkl\n",
      "Iteration  0  has: False\n",
      "Now processing: School49data.pkl\n",
      "Iteration  0  has: False\n",
      "Now processing: School22data.pkl\n",
      "Iteration  0  has: False\n",
      "Now processing: School40data.pkl\n",
      "Iteration  0  has: False\n",
      "Now processing: School3data.pkl\n",
      "Iteration  0  has: False\n",
      "Now processing: School27data.pkl\n",
      "Iteration  0  has: False\n",
      "Now processing: School45data.pkl\n",
      "Iteration  0  has: False\n",
      "Now processing: School10data.pkl\n",
      "Iteration  0  has: False\n",
      "Now processing: School19data.pkl\n",
      "Iteration  0  has: False\n",
      "Now processing: School26data.pkl\n",
      "Iteration  0  has: False\n",
      "Now processing: School44data.pkl\n",
      "Iteration  0  has: False\n",
      "Now processing: School60data.pkl\n",
      "Iteration  0  has: False\n",
      "Now processing: School56data.pkl\n",
      "Iteration  0  has: False\n",
      "Now processing: School24data.pkl\n",
      "Iteration  0  has: False\n",
      "Now processing: School34data.pkl\n",
      "Iteration  0  has: False\n",
      "Now processing: School35data.pkl\n",
      "Iteration  0  has: False\n",
      "Now processing: School13data.pkl\n",
      "Iteration  0  has: False\n"
     ]
    }
   ],
   "source": [
    "accuracies9 = np.zeros((n_file))\n",
    "\n",
    "l = 0 \n",
    "for name in os.listdir(\"../data/SchoolData/\"):\n",
    "    print(\"Now processing:\", name)\n",
    "    full_name = schoolName + name\n",
    "    infile = open(full_name, \"rb\")\n",
    "    data = pickle.load(infile)\n",
    "    G1 = nx.DiGraph(data[\"A1\"])\n",
    "    G2 = nx.DiGraph(data[\"A2\"])\n",
    "    lands1 = dist.find_landmarks(G1, 25)\n",
    "    lands2 = dist.find_landmarks(G2, 25)\n",
    "    init_map = {lands1[i] : lands2[i] for i in range(25)}\n",
    "    new_map = sample.deAnon(G1, G2, init_map, k_iters=5)\n",
    "    accuracies9[l] = match_correct(new_map) / len(G1)\n",
    "    l += 1"
   ]
  },
  {
   "cell_type": "code",
   "execution_count": 15,
   "metadata": {},
   "outputs": [
    {
     "data": {
      "text/plain": [
       "array([0.        , 0.        , 0.        , 0.00223714, 0.00568182,\n",
       "       0.        , 0.        , 0.        , 0.        , 0.00303951,\n",
       "       0.00164204, 0.        , 0.00892857, 0.00473934, 0.        ,\n",
       "       0.        , 0.00223714, 0.00568182, 0.00934579, 0.        ,\n",
       "       0.        , 0.00132802, 0.        , 0.        , 0.        ])"
      ]
     },
     "execution_count": 15,
     "metadata": {},
     "output_type": "execute_result"
    }
   ],
   "source": [
    "accuracies9"
   ]
  },
  {
   "cell_type": "markdown",
   "metadata": {},
   "source": [
    "## With Artificial seeds"
   ]
  },
  {
   "cell_type": "code",
   "execution_count": 16,
   "metadata": {},
   "outputs": [
    {
     "name": "stdout",
     "output_type": "stream",
     "text": [
      "Now processing: School29data.pkl\n",
      "Iteration  0  has: False\n",
      "Now processing: School1data.pkl\n",
      "Iteration  0  has: False\n",
      "Now processing: School42data.pkl\n",
      "Iteration  0  has: False\n",
      "Now processing: School20data.pkl\n",
      "Iteration  0  has: False\n",
      "Now processing: School31data.pkl\n",
      "Iteration  0  has: False\n",
      "Now processing: School21data.pkl\n",
      "Iteration  0  has: False\n",
      "Now processing: School51data.pkl\n",
      "Iteration  0  has: False\n",
      "Now processing: School58data.pkl\n",
      "Iteration  0  has: True\n",
      "Iteration  1  has: False\n",
      "Now processing: School48data.pkl\n",
      "Iteration  0  has: True\n",
      "Iteration  1  has: False\n",
      "Now processing: School49data.pkl\n",
      "Iteration  0  has: True\n",
      "Iteration  1  has: False\n",
      "Now processing: School22data.pkl\n",
      "Iteration  0  has: False\n",
      "Now processing: School40data.pkl\n",
      "Iteration  0  has: False\n",
      "Now processing: School3data.pkl\n",
      "Iteration  0  has: False\n",
      "Now processing: School27data.pkl\n",
      "Iteration  0  has: True\n",
      "Iteration  1  has: False\n",
      "Now processing: School45data.pkl\n",
      "Iteration  0  has: False\n",
      "Now processing: School10data.pkl\n",
      "Iteration  0  has: True\n",
      "Iteration  1  has: False\n",
      "Now processing: School19data.pkl\n",
      "Iteration  0  has: False\n",
      "Now processing: School26data.pkl\n",
      "Iteration  0  has: True\n",
      "Iteration  1  has: False\n",
      "Now processing: School44data.pkl\n",
      "Iteration  0  has: True\n",
      "Iteration  1  has: False\n",
      "Now processing: School60data.pkl\n",
      "Iteration  0  has: False\n",
      "Now processing: School56data.pkl\n",
      "Iteration  0  has: True\n",
      "Iteration  1  has: False\n",
      "Now processing: School24data.pkl\n",
      "Iteration  0  has: False\n",
      "Now processing: School34data.pkl\n",
      "Iteration  0  has: False\n",
      "Now processing: School35data.pkl\n",
      "Iteration  0  has: False\n",
      "Now processing: School13data.pkl\n",
      "Iteration  0  has: False\n"
     ]
    }
   ],
   "source": [
    "accuracies10 = np.zeros((n_file))\n",
    "\n",
    "l = 0 \n",
    "\n",
    "for name in os.listdir(\"../data/SchoolData/\"):\n",
    "    print(\"Now processing:\", name)\n",
    "    full_name = schoolName + name\n",
    "    infile = open(full_name, \"rb\")\n",
    "    data = pickle.load(infile)\n",
    "    G1 = nx.DiGraph(data[\"A1\"])\n",
    "    G2 = nx.DiGraph(data[\"A2\"])\n",
    "    init_seeds = np.random.choice([i for i in range(len(G1))], len(G1))\n",
    "\n",
    "    init_map = {init_seeds[i] : init_seeds[i] for i in range(20)}\n",
    "    new_map = sample.deAnon(G1, G2, init_map, k_iters=5)\n",
    "    accuracies10[l] = match_correct(new_map) / len(G1)\n",
    "    l += 1"
   ]
  },
  {
   "cell_type": "code",
   "execution_count": 17,
   "metadata": {},
   "outputs": [
    {
     "data": {
      "text/plain": [
       "array([0.08370044, 0.09009009, 0.05540166, 0.04250559, 0.05113636,\n",
       "       0.07092199, 0.04662005, 0.03759398, 0.07352941, 0.06079027,\n",
       "       0.03284072, 0.15517241, 0.17857143, 0.08530806, 0.07509881,\n",
       "       0.07604563, 0.04474273, 0.10227273, 0.09345794, 0.03412969,\n",
       "       0.04      , 0.02656042, 0.04494382, 0.0619195 , 0.09045226])"
      ]
     },
     "execution_count": 17,
     "metadata": {},
     "output_type": "execute_result"
    }
   ],
   "source": [
    "accuracies10"
   ]
  },
  {
   "cell_type": "code",
   "execution_count": 94,
   "metadata": {},
   "outputs": [
    {
     "data": {
      "text/plain": [
       "15"
      ]
     },
     "execution_count": 94,
     "metadata": {},
     "output_type": "execute_result"
    }
   ],
   "source": [
    "match_correct(new_map)"
   ]
  },
  {
   "cell_type": "code",
   "execution_count": 96,
   "metadata": {},
   "outputs": [
    {
     "data": {
      "text/plain": [
       "15"
      ]
     },
     "execution_count": 96,
     "metadata": {},
     "output_type": "execute_result"
    }
   ],
   "source": [
    "len(init_map)"
   ]
  },
  {
   "cell_type": "code",
   "execution_count": 113,
   "metadata": {},
   "outputs": [
    {
     "data": {
      "text/plain": [
       "['anonymized.txt', 'pair_a_c.txt', 'crawled.txt']"
      ]
     },
     "execution_count": 113,
     "metadata": {},
     "output_type": "execute_result"
    }
   ],
   "source": [
    "os.listdir(\"data/liveJournal/\")"
   ]
  },
  {
   "cell_type": "code",
   "execution_count": 119,
   "metadata": {},
   "outputs": [
    {
     "data": {
      "text/html": [
       "<div>\n",
       "<style scoped>\n",
       "    .dataframe tbody tr th:only-of-type {\n",
       "        vertical-align: middle;\n",
       "    }\n",
       "\n",
       "    .dataframe tbody tr th {\n",
       "        vertical-align: top;\n",
       "    }\n",
       "\n",
       "    .dataframe thead th {\n",
       "        text-align: right;\n",
       "    }\n",
       "</style>\n",
       "<table border=\"1\" class=\"dataframe\">\n",
       "  <thead>\n",
       "    <tr style=\"text-align: right;\">\n",
       "      <th></th>\n",
       "      <th>1000</th>\n",
       "      <th>12156</th>\n",
       "    </tr>\n",
       "  </thead>\n",
       "  <tbody>\n",
       "    <tr>\n",
       "      <th>0</th>\n",
       "      <td>420</td>\n",
       "      <td>420</td>\n",
       "    </tr>\n",
       "    <tr>\n",
       "      <th>1</th>\n",
       "      <td>420</td>\n",
       "      <td>430</td>\n",
       "    </tr>\n",
       "    <tr>\n",
       "      <th>2</th>\n",
       "      <td>420</td>\n",
       "      <td>435</td>\n",
       "    </tr>\n",
       "    <tr>\n",
       "      <th>3</th>\n",
       "      <td>420</td>\n",
       "      <td>574</td>\n",
       "    </tr>\n",
       "    <tr>\n",
       "      <th>4</th>\n",
       "      <td>792</td>\n",
       "      <td>479</td>\n",
       "    </tr>\n",
       "    <tr>\n",
       "      <th>...</th>\n",
       "      <td>...</td>\n",
       "      <td>...</td>\n",
       "    </tr>\n",
       "    <tr>\n",
       "      <th>12151</th>\n",
       "      <td>911</td>\n",
       "      <td>762</td>\n",
       "    </tr>\n",
       "    <tr>\n",
       "      <th>12152</th>\n",
       "      <td>912</td>\n",
       "      <td>612</td>\n",
       "    </tr>\n",
       "    <tr>\n",
       "      <th>12153</th>\n",
       "      <td>912</td>\n",
       "      <td>410</td>\n",
       "    </tr>\n",
       "    <tr>\n",
       "      <th>12154</th>\n",
       "      <td>912</td>\n",
       "      <td>609</td>\n",
       "    </tr>\n",
       "    <tr>\n",
       "      <th>12155</th>\n",
       "      <td>912</td>\n",
       "      <td>912</td>\n",
       "    </tr>\n",
       "  </tbody>\n",
       "</table>\n",
       "<p>12156 rows × 2 columns</p>\n",
       "</div>"
      ],
      "text/plain": [
       "       1000  12156\n",
       "0       420    420\n",
       "1       420    430\n",
       "2       420    435\n",
       "3       420    574\n",
       "4       792    479\n",
       "...     ...    ...\n",
       "12151   911    762\n",
       "12152   912    612\n",
       "12153   912    410\n",
       "12154   912    609\n",
       "12155   912    912\n",
       "\n",
       "[12156 rows x 2 columns]"
      ]
     },
     "execution_count": 119,
     "metadata": {},
     "output_type": "execute_result"
    }
   ],
   "source": [
    "data1"
   ]
  },
  {
   "cell_type": "code",
   "execution_count": 148,
   "metadata": {},
   "outputs": [],
   "source": [
    "A1 = pd.read_csv(\"data/liveJournal/anonymized.txt\", sep=\" \") - 1\n",
    "A2 = pd.read_csv(\"data/liveJournal/crawled.txt\", sep=\" \") -1 "
   ]
  },
  {
   "cell_type": "code",
   "execution_count": 155,
   "metadata": {},
   "outputs": [],
   "source": [
    "G1 = nx.from_pandas_edgelist(A1)\n",
    "G2 = nx.from_pandas_edgelist(A2)\n",
    "answers = pd.read_csv(\"data/liveJournal/pair_a_c.txt\", sep=\" \", header=None) -1"
   ]
  },
  {
   "cell_type": "code",
   "execution_count": 149,
   "metadata": {},
   "outputs": [],
   "source": [
    "land1 = dist.find_landmarks(G1, 40)\n",
    "land2 = dist.find_landmarks(G2, 40)"
   ]
  },
  {
   "cell_type": "code",
   "execution_count": 150,
   "metadata": {},
   "outputs": [
    {
     "data": {
      "text/plain": [
       "4"
      ]
     },
     "execution_count": 150,
     "metadata": {},
     "output_type": "execute_result"
    }
   ],
   "source": [
    "len( set(land1).intersection(set(land2)))"
   ]
  },
  {
   "cell_type": "code",
   "execution_count": 158,
   "metadata": {},
   "outputs": [],
   "source": [
    "W = dist.generate_scores(G1, G2, land1, land2)\n",
    "match, score = dist.find_matching(W, land1, land2)"
   ]
  },
  {
   "cell_type": "code",
   "execution_count": 171,
   "metadata": {},
   "outputs": [
    {
     "data": {
      "text/plain": [
       "0.915"
      ]
     },
     "execution_count": 171,
     "metadata": {},
     "output_type": "execute_result"
    }
   ],
   "source": [
    "score =0 \n",
    "for i in range(len(match)):\n",
    "    score += (answers[0].iloc[i] == np.argmax(match[:,i]))\n",
    "score/len(match)"
   ]
  },
  {
   "cell_type": "code",
   "execution_count": 169,
   "metadata": {},
   "outputs": [
    {
     "data": {
      "text/html": [
       "<div>\n",
       "<style scoped>\n",
       "    .dataframe tbody tr th:only-of-type {\n",
       "        vertical-align: middle;\n",
       "    }\n",
       "\n",
       "    .dataframe tbody tr th {\n",
       "        vertical-align: top;\n",
       "    }\n",
       "\n",
       "    .dataframe thead th {\n",
       "        text-align: right;\n",
       "    }\n",
       "</style>\n",
       "<table border=\"1\" class=\"dataframe\">\n",
       "  <thead>\n",
       "    <tr style=\"text-align: right;\">\n",
       "      <th></th>\n",
       "      <th>0</th>\n",
       "      <th>1</th>\n",
       "    </tr>\n",
       "  </thead>\n",
       "  <tbody>\n",
       "    <tr>\n",
       "      <th>0</th>\n",
       "      <td>674</td>\n",
       "      <td>0</td>\n",
       "    </tr>\n",
       "    <tr>\n",
       "      <th>1</th>\n",
       "      <td>374</td>\n",
       "      <td>1</td>\n",
       "    </tr>\n",
       "    <tr>\n",
       "      <th>2</th>\n",
       "      <td>253</td>\n",
       "      <td>2</td>\n",
       "    </tr>\n",
       "    <tr>\n",
       "      <th>3</th>\n",
       "      <td>845</td>\n",
       "      <td>3</td>\n",
       "    </tr>\n",
       "    <tr>\n",
       "      <th>4</th>\n",
       "      <td>751</td>\n",
       "      <td>4</td>\n",
       "    </tr>\n",
       "    <tr>\n",
       "      <th>...</th>\n",
       "      <td>...</td>\n",
       "      <td>...</td>\n",
       "    </tr>\n",
       "    <tr>\n",
       "      <th>995</th>\n",
       "      <td>236</td>\n",
       "      <td>995</td>\n",
       "    </tr>\n",
       "    <tr>\n",
       "      <th>996</th>\n",
       "      <td>454</td>\n",
       "      <td>996</td>\n",
       "    </tr>\n",
       "    <tr>\n",
       "      <th>997</th>\n",
       "      <td>109</td>\n",
       "      <td>997</td>\n",
       "    </tr>\n",
       "    <tr>\n",
       "      <th>998</th>\n",
       "      <td>878</td>\n",
       "      <td>998</td>\n",
       "    </tr>\n",
       "    <tr>\n",
       "      <th>999</th>\n",
       "      <td>699</td>\n",
       "      <td>999</td>\n",
       "    </tr>\n",
       "  </tbody>\n",
       "</table>\n",
       "<p>1000 rows × 2 columns</p>\n",
       "</div>"
      ],
      "text/plain": [
       "       0    1\n",
       "0    674    0\n",
       "1    374    1\n",
       "2    253    2\n",
       "3    845    3\n",
       "4    751    4\n",
       "..   ...  ...\n",
       "995  236  995\n",
       "996  454  996\n",
       "997  109  997\n",
       "998  878  998\n",
       "999  699  999\n",
       "\n",
       "[1000 rows x 2 columns]"
      ]
     },
     "execution_count": 169,
     "metadata": {},
     "output_type": "execute_result"
    }
   ],
   "source": [
    "answers"
   ]
  },
  {
   "cell_type": "code",
   "execution_count": 168,
   "metadata": {},
   "outputs": [
    {
     "data": {
      "text/plain": [
       "0"
      ]
     },
     "execution_count": 168,
     "metadata": {},
     "output_type": "execute_result"
    }
   ],
   "source": [
    "answers[1].iloc[0]"
   ]
  },
  {
   "cell_type": "code",
   "execution_count": 164,
   "metadata": {},
   "outputs": [
    {
     "data": {
      "text/plain": [
       "674"
      ]
     },
     "execution_count": 164,
     "metadata": {},
     "output_type": "execute_result"
    }
   ],
   "source": [
    "np.argmax(match[:,0])"
   ]
  },
  {
   "cell_type": "code",
   "execution_count": 173,
   "metadata": {},
   "outputs": [
    {
     "name": "stdout",
     "output_type": "stream",
     "text": [
      "Iteration  0  has: True\n",
      "Iteration  1  has: True\n",
      "Iteration  2  has: True\n",
      "Iteration  3  has: False\n"
     ]
    }
   ],
   "source": [
    "lands_seed = {land1[i] : land2[i] for i in range(40)}\n",
    "new_map = sample.deAnon(G1, G2, lands_seed, 20)"
   ]
  },
  {
   "cell_type": "code",
   "execution_count": 191,
   "metadata": {},
   "outputs": [
    {
     "data": {
      "text/plain": [
       "0    374\n",
       "1      1\n",
       "Name: 1, dtype: int64"
      ]
     },
     "execution_count": 191,
     "metadata": {},
     "output_type": "execute_result"
    }
   ],
   "source": [
    "answers.iloc[new_map[374]]"
   ]
  },
  {
   "cell_type": "code",
   "execution_count": 189,
   "metadata": {},
   "outputs": [
    {
     "data": {
      "text/plain": [
       "{374: 1,\n",
       " 576: 409,\n",
       " 875: 634,\n",
       " 469: 64,\n",
       " 931: 446,\n",
       " 941: 11,\n",
       " 198: 8,\n",
       " 103: 419,\n",
       " 385: 392,\n",
       " 57: 432,\n",
       " 822: 6,\n",
       " 698: 187,\n",
       " 1: 129,\n",
       " 647: 431,\n",
       " 448: 435,\n",
       " 158: 444,\n",
       " 568: 551,\n",
       " 437: 100,\n",
       " 102: 474,\n",
       " 478: 56,\n",
       " 678: 401,\n",
       " 566: 26,\n",
       " 259: 396,\n",
       " 308: 433,\n",
       " 842: 28,\n",
       " 845: 3,\n",
       " 391: 469,\n",
       " 871: 593,\n",
       " 891: 570,\n",
       " 722: 148,\n",
       " 775: 607,\n",
       " 672: 491,\n",
       " 177: 411,\n",
       " 419: 57,\n",
       " 620: 490,\n",
       " 408: 663,\n",
       " 972: 481,\n",
       " 545: 573,\n",
       " 194: 443,\n",
       " 23: 213,\n",
       " 0: 114,\n",
       " 8: 29,\n",
       " 9: 631,\n",
       " 11: 916,\n",
       " 13: 730,\n",
       " 18: 782,\n",
       " 19: 846,\n",
       " 27: 727,\n",
       " 28: 35,\n",
       " 44: 994,\n",
       " 46: 273,\n",
       " 51: 865,\n",
       " 55: 239,\n",
       " 63: 807,\n",
       " 64: 98,\n",
       " 68: 27,\n",
       " 75: 923,\n",
       " 77: 531,\n",
       " 80: 642,\n",
       " 81: 595,\n",
       " 85: 935,\n",
       " 97: 784,\n",
       " 106: 857,\n",
       " 108: 803,\n",
       " 109: 970,\n",
       " 111: 788,\n",
       " 116: 985,\n",
       " 117: 377,\n",
       " 118: 681,\n",
       " 121: 60,\n",
       " 122: 780,\n",
       " 133: 847,\n",
       " 138: 643,\n",
       " 142: 532,\n",
       " 154: 24,\n",
       " 167: 961,\n",
       " 181: 79,\n",
       " 184: 981,\n",
       " 200: 525,\n",
       " 201: 871,\n",
       " 203: 337,\n",
       " 205: 73,\n",
       " 206: 54,\n",
       " 210: 878,\n",
       " 217: 341,\n",
       " 221: 656,\n",
       " 224: 830,\n",
       " 229: 77,\n",
       " 231: 739,\n",
       " 233: 359,\n",
       " 243: 867,\n",
       " 256: 306,\n",
       " 257: 641,\n",
       " 275: 257,\n",
       " 276: 346,\n",
       " 278: 340,\n",
       " 281: 562,\n",
       " 284: 436,\n",
       " 290: 324,\n",
       " 292: 290,\n",
       " 294: 312,\n",
       " 299: 41,\n",
       " 301: 689,\n",
       " 304: 214,\n",
       " 310: 657,\n",
       " 324: 991,\n",
       " 326: 813,\n",
       " 327: 868,\n",
       " 330: 122,\n",
       " 334: 802,\n",
       " 338: 637,\n",
       " 343: 155,\n",
       " 353: 703,\n",
       " 354: 541,\n",
       " 357: 760,\n",
       " 358: 12,\n",
       " 361: 841,\n",
       " 370: 437,\n",
       " 373: 44,\n",
       " 394: 226,\n",
       " 400: 356,\n",
       " 409: 202,\n",
       " 417: 267,\n",
       " 418: 719,\n",
       " 421: 278,\n",
       " 450: 507,\n",
       " 453: 639,\n",
       " 457: 222,\n",
       " 458: 237,\n",
       " 462: 154,\n",
       " 470: 640,\n",
       " 474: 352,\n",
       " 487: 161,\n",
       " 489: 769,\n",
       " 490: 626,\n",
       " 496: 21,\n",
       " 501: 254,\n",
       " 504: 322,\n",
       " 505: 931,\n",
       " 508: 514,\n",
       " 509: 707,\n",
       " 513: 229,\n",
       " 518: 328,\n",
       " 523: 738,\n",
       " 525: 545,\n",
       " 527: 779,\n",
       " 532: 753,\n",
       " 536: 793,\n",
       " 552: 326,\n",
       " 553: 330,\n",
       " 554: 789,\n",
       " 561: 937,\n",
       " 562: 61,\n",
       " 580: 456,\n",
       " 585: 537,\n",
       " 590: 933,\n",
       " 592: 113,\n",
       " 597: 13,\n",
       " 603: 305,\n",
       " 605: 355,\n",
       " 611: 535,\n",
       " 626: 319,\n",
       " 633: 936,\n",
       " 646: 510,\n",
       " 648: 834,\n",
       " 651: 858,\n",
       " 658: 629,\n",
       " 680: 709,\n",
       " 682: 538,\n",
       " 696: 22,\n",
       " 699: 999,\n",
       " 706: 539,\n",
       " 708: 108,\n",
       " 711: 520,\n",
       " 715: 227,\n",
       " 719: 67,\n",
       " 730: 990,\n",
       " 754: 132,\n",
       " 767: 546,\n",
       " 770: 512,\n",
       " 779: 718,\n",
       " 780: 592,\n",
       " 781: 549,\n",
       " 787: 547,\n",
       " 801: 373,\n",
       " 802: 671,\n",
       " 806: 492,\n",
       " 810: 203,\n",
       " 812: 621,\n",
       " 816: 590,\n",
       " 821: 896,\n",
       " 824: 786,\n",
       " 825: 833,\n",
       " 827: 909,\n",
       " 828: 151,\n",
       " 832: 932,\n",
       " 843: 527,\n",
       " 849: 638,\n",
       " 853: 166,\n",
       " 858: 934,\n",
       " 868: 829,\n",
       " 870: 862,\n",
       " 879: 701,\n",
       " 886: 323,\n",
       " 895: 676,\n",
       " 896: 117,\n",
       " 902: 907,\n",
       " 906: 374,\n",
       " 907: 511,\n",
       " 910: 877,\n",
       " 915: 763,\n",
       " 926: 984,\n",
       " 934: 42,\n",
       " 936: 205,\n",
       " 957: 508,\n",
       " 962: 977,\n",
       " 966: 891,\n",
       " 971: 973,\n",
       " 975: 879,\n",
       " 978: 993,\n",
       " 980: 602,\n",
       " 986: 939,\n",
       " 993: 897,\n",
       " 37: 609,\n",
       " 40: 288,\n",
       " 52: 762,\n",
       " 128: 53,\n",
       " 131: 236,\n",
       " 134: 190,\n",
       " 136: 384,\n",
       " 187: 759,\n",
       " 204: 741,\n",
       " 239: 586,\n",
       " 264: 505,\n",
       " 383: 800,\n",
       " 405: 737,\n",
       " 424: 578,\n",
       " 736: 270,\n",
       " 892: 790,\n",
       " 944: 822,\n",
       " 973: 811,\n",
       " 182: 680}"
      ]
     },
     "execution_count": 189,
     "metadata": {},
     "output_type": "execute_result"
    }
   ],
   "source": [
    "new_map"
   ]
  },
  {
   "cell_type": "code",
   "execution_count": 200,
   "metadata": {},
   "outputs": [
    {
     "data": {
      "text/plain": [
       "242"
      ]
     },
     "execution_count": 200,
     "metadata": {},
     "output_type": "execute_result"
    }
   ],
   "source": [
    "len(new_map)"
   ]
  },
  {
   "cell_type": "code",
   "execution_count": 192,
   "metadata": {},
   "outputs": [],
   "source": [
    "score = 0 \n",
    "for i in new_map:\n",
    "    a,b = answers.iloc[new_map[i]]\n",
    "    score += (a == i)"
   ]
  },
  {
   "cell_type": "code",
   "execution_count": 194,
   "metadata": {},
   "outputs": [
    {
     "data": {
      "text/plain": [
       "0.9628099173553719"
      ]
     },
     "execution_count": 194,
     "metadata": {},
     "output_type": "execute_result"
    }
   ],
   "source": [
    "score/len(new_map)"
   ]
  },
  {
   "cell_type": "code",
   "execution_count": null,
   "metadata": {},
   "outputs": [],
   "source": []
  },
  {
   "cell_type": "code",
   "execution_count": 2,
   "metadata": {},
   "outputs": [],
   "source": [
    "import numpy as np"
   ]
  },
  {
   "cell_type": "code",
   "execution_count": 6,
   "metadata": {},
   "outputs": [],
   "source": [
    "v = np.ones((4,1))"
   ]
  },
  {
   "cell_type": "code",
   "execution_count": 31,
   "metadata": {},
   "outputs": [],
   "source": [
    "score = 0 \n",
    "n = 100\n",
    "for i in range(100000):\n",
    "    A = np.random.random((n,n)) - 0.5*np.ones((n,n))\n",
    "    score += np.sum(A@A)"
   ]
  },
  {
   "cell_type": "code",
   "execution_count": 32,
   "metadata": {},
   "outputs": [
    {
     "data": {
      "text/plain": [
       "8.25892993465338"
      ]
     },
     "execution_count": 32,
     "metadata": {},
     "output_type": "execute_result"
    }
   ],
   "source": [
    "score/100000"
   ]
  },
  {
   "cell_type": "code",
   "execution_count": 34,
   "metadata": {},
   "outputs": [
    {
     "data": {
      "text/plain": [
       "8.333333333333334"
      ]
     },
     "execution_count": 34,
     "metadata": {},
     "output_type": "execute_result"
    }
   ],
   "source": [
    "200/24"
   ]
  },
  {
   "cell_type": "code",
   "execution_count": 17,
   "metadata": {},
   "outputs": [
    {
     "data": {
      "text/plain": [
       "-0.13915595839611328"
      ]
     },
     "execution_count": 17,
     "metadata": {},
     "output_type": "execute_result"
    }
   ],
   "source": [
    "np.sum(A)"
   ]
  },
  {
   "cell_type": "markdown",
   "metadata": {},
   "source": []
  }
 ],
 "metadata": {
  "kernelspec": {
   "display_name": "coding",
   "language": "python",
   "name": "python3"
  },
  "language_info": {
   "codemirror_mode": {
    "name": "ipython",
    "version": 3
   },
   "file_extension": ".py",
   "mimetype": "text/x-python",
   "name": "python",
   "nbconvert_exporter": "python",
   "pygments_lexer": "ipython3",
   "version": "3.12.3"
  }
 },
 "nbformat": 4,
 "nbformat_minor": 2
}
