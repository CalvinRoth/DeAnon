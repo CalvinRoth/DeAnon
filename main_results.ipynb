{
 "cells": [
  {
   "cell_type": "markdown",
   "metadata": {},
   "source": [
    "# Imports and Data"
   ]
  },
  {
   "cell_type": "code",
   "execution_count": 1,
   "metadata": {},
   "outputs": [],
   "source": [
    "import numpy as np \n",
    "import networkx as nx \n",
    "import scipy as sc \n",
    "import pandas as pd\n",
    "import matplotlib.pyplot as plt"
   ]
  },
  {
   "cell_type": "code",
   "execution_count": 2,
   "metadata": {},
   "outputs": [],
   "source": [
    "import defenses.rw\n",
    "import defenses.spectral_add\n",
    "import attack.sample as prop \n",
    "import defenses.addDel\n",
    "import attack.distance_vec as dis1 "
   ]
  },
  {
   "cell_type": "markdown",
   "metadata": {},
   "source": [
    "## Helper functions \n",
    "\n",
    "1. shfit is a small function to adjust mainly between graphs that are 0 indexed and 1 indexed \n",
    "2. scorer takes a mapping in the form of a dictionary that should be regard as the result of an attack and matches how many nodes map to themselve. If node ids are shuffled you will have to adjust the code to get if a mapping of a node is correct. \n",
    "3. copyToGraph -> This adds the edges of one graph ontop of another graph \n",
    "4. to_map converts a list of tuples [(a,b), (c,d), ...] to a hashmap with key-value pairs beings each pair. "
   ]
  },
  {
   "cell_type": "code",
   "execution_count": 3,
   "metadata": {},
   "outputs": [],
   "source": [
    "def shift(G, shift=1):\n",
    "    mapping = {}\n",
    "    for i in G.nodes:\n",
    "        mapping[i] = i-shift\n",
    "    return nx.relabel_nodes(G, mapping)\n",
    "\n",
    "def scorer(n, answers):\n",
    "    score = 0 \n",
    "    for i in answers:\n",
    "        if(answers[i] == i):\n",
    "            score += 1\n",
    "    return score / n\n",
    "\n",
    "def copyToGraph(G, H):\n",
    "    for (u,v) in H.edges():\n",
    "        G.add_edge(u,v)\n",
    "    return G\n",
    "\n",
    "def to_map(lst):\n",
    "    mp = {}\n",
    "    for (a,b) in lst:\n",
    "        mp[a] = b \n",
    "    return mp "
   ]
  },
  {
   "cell_type": "markdown",
   "metadata": {},
   "source": [
    "# Defenses \n",
    "\n",
    "here we perform all the defenses at once. "
   ]
  },
  {
   "cell_type": "code",
   "execution_count": 4,
   "metadata": {},
   "outputs": [],
   "source": [
    "G_original = nx.read_edgelist(\"data/email-Eu-core.txt\", nodetype=int)"
   ]
  },
  {
   "cell_type": "code",
   "execution_count": 5,
   "metadata": {},
   "outputs": [],
   "source": [
    "re_idx = [i for i in range(len(G_original))]\n",
    "np.random.shuffle(re_idx)\n",
    "labels = {i : re_idx[i] for i in range(len(G_original))}\n",
    "G_shuffle = nx.relabel_nodes(G_original, labels)"
   ]
  },
  {
   "cell_type": "code",
   "execution_count": 6,
   "metadata": {},
   "outputs": [
    {
     "ename": "FileNotFoundError",
     "evalue": "[Errno 2] No such file or directory: 'proposedmethod/result_1.txt'",
     "output_type": "error",
     "traceback": [
      "\u001b[0;31m---------------------------------------------------------------------------\u001b[0m",
      "\u001b[0;31mFileNotFoundError\u001b[0m                         Traceback (most recent call last)",
      "Cell \u001b[0;32mIn[6], line 6\u001b[0m\n\u001b[1;32m      4\u001b[0m name \u001b[38;5;241m=\u001b[39m \u001b[38;5;124m\"\u001b[39m\u001b[38;5;124mproposedmethod/result_\u001b[39m\u001b[38;5;124m\"\u001b[39m \u001b[38;5;241m+\u001b[39m \u001b[38;5;28mstr\u001b[39m(i\u001b[38;5;241m+\u001b[39m\u001b[38;5;241m1\u001b[39m) \u001b[38;5;241m+\u001b[39m \u001b[38;5;124m\"\u001b[39m\u001b[38;5;124m.txt\u001b[39m\u001b[38;5;124m\"\u001b[39m\n\u001b[1;32m      5\u001b[0m G \u001b[38;5;241m=\u001b[39m nx\u001b[38;5;241m.\u001b[39mempty_graph(\u001b[38;5;241m1005\u001b[39m)\n\u001b[0;32m----> 6\u001b[0m G \u001b[38;5;241m=\u001b[39m copyToGraph(G,shift(\u001b[43mnx\u001b[49m\u001b[38;5;241;43m.\u001b[39;49m\u001b[43mread_edgelist\u001b[49m\u001b[43m(\u001b[49m\u001b[43mname\u001b[49m\u001b[43m,\u001b[49m\u001b[43m \u001b[49m\u001b[43mnodetype\u001b[49m\u001b[38;5;241;43m=\u001b[39;49m\u001b[38;5;28;43mint\u001b[39;49m\u001b[43m)\u001b[49m) )\n\u001b[1;32m      7\u001b[0m nx\u001b[38;5;241m.\u001b[39mwrite_edgelist(G, \u001b[38;5;124m\"\u001b[39m\u001b[38;5;124mresult_\u001b[39m\u001b[38;5;124m\"\u001b[39m\u001b[38;5;241m+\u001b[39m\u001b[38;5;28mstr\u001b[39m(i)\u001b[38;5;241m+\u001b[39m\u001b[38;5;124m\"\u001b[39m\u001b[38;5;124m.txt\u001b[39m\u001b[38;5;124m\"\u001b[39m, data\u001b[38;5;241m=\u001b[39m\u001b[38;5;28;01mFalse\u001b[39;00m)\n\u001b[1;32m      8\u001b[0m Gs_proposed\u001b[38;5;241m.\u001b[39mappend( G)\n",
      "File \u001b[0;32m<class 'networkx.utils.decorators.argmap'> compilation 5:3\u001b[0m, in \u001b[0;36margmap_read_edgelist_1\u001b[0;34m(path, comments, delimiter, create_using, nodetype, data, edgetype, encoding)\u001b[0m\n\u001b[1;32m      1\u001b[0m \u001b[38;5;28;01mimport\u001b[39;00m \u001b[38;5;21;01mbz2\u001b[39;00m\n\u001b[1;32m      2\u001b[0m \u001b[38;5;28;01mimport\u001b[39;00m \u001b[38;5;21;01mcollections\u001b[39;00m\n\u001b[0;32m----> 3\u001b[0m \u001b[38;5;28;01mimport\u001b[39;00m \u001b[38;5;21;01mgzip\u001b[39;00m\n\u001b[1;32m      4\u001b[0m \u001b[38;5;28;01mimport\u001b[39;00m \u001b[38;5;21;01minspect\u001b[39;00m\n\u001b[1;32m      5\u001b[0m \u001b[38;5;28;01mimport\u001b[39;00m \u001b[38;5;21;01mitertools\u001b[39;00m\n",
      "File \u001b[0;32m/opt/homebrew/Caskroom/miniconda/base/envs/coding/lib/python3.12/site-packages/networkx/utils/decorators.py:189\u001b[0m, in \u001b[0;36mopen_file.<locals>._open_file\u001b[0;34m(path)\u001b[0m\n\u001b[1;32m    185\u001b[0m \u001b[38;5;28;01melse\u001b[39;00m:\n\u001b[1;32m    186\u001b[0m     \u001b[38;5;66;03m# could be None, or a file handle, in which case the algorithm will deal with it\u001b[39;00m\n\u001b[1;32m    187\u001b[0m     \u001b[38;5;28;01mreturn\u001b[39;00m path, \u001b[38;5;28;01mlambda\u001b[39;00m: \u001b[38;5;28;01mNone\u001b[39;00m\n\u001b[0;32m--> 189\u001b[0m fobj \u001b[38;5;241m=\u001b[39m \u001b[43m_dispatch_dict\u001b[49m\u001b[43m[\u001b[49m\u001b[43mext\u001b[49m\u001b[43m]\u001b[49m\u001b[43m(\u001b[49m\u001b[43mpath\u001b[49m\u001b[43m,\u001b[49m\u001b[43m \u001b[49m\u001b[43mmode\u001b[49m\u001b[38;5;241;43m=\u001b[39;49m\u001b[43mmode\u001b[49m\u001b[43m)\u001b[49m\n\u001b[1;32m    190\u001b[0m \u001b[38;5;28;01mreturn\u001b[39;00m fobj, \u001b[38;5;28;01mlambda\u001b[39;00m: fobj\u001b[38;5;241m.\u001b[39mclose()\n",
      "\u001b[0;31mFileNotFoundError\u001b[0m: [Errno 2] No such file or directory: 'proposedmethod/result_1.txt'"
     ]
    }
   ],
   "source": [
    "G_rw = defenses.rw.Anon(G_original, [5,40])\n",
    "Gs_proposed = []\n",
    "for i in range(5):\n",
    "    name = \"proposedmethod/result_\" + str(i+1) + \".txt\"\n",
    "    G = nx.empty_graph(1005)\n",
    "    G = copyToGraph(G,shift(nx.read_edgelist(name, nodetype=int)) )\n",
    "    nx.write_edgelist(G, \"result_\"+str(i)+\".txt\", data=False)\n",
    "    Gs_proposed.append( G)"
   ]
  },
  {
   "cell_type": "code",
   "execution_count": 7,
   "metadata": {},
   "outputs": [],
   "source": [
    "G_rw = defenses.rw.Anon(G_original, [2,100]) #2 hops 100 tried per hop"
   ]
  },
  {
   "cell_type": "code",
   "execution_count": 8,
   "metadata": {},
   "outputs": [],
   "source": [
    "G_adddel = defenses.addDel.addDel(G_original)"
   ]
  },
  {
   "cell_type": "code",
   "execution_count": 9,
   "metadata": {},
   "outputs": [
    {
     "name": "stdout",
     "output_type": "stream",
     "text": [
      "1005\n",
      "1005\n"
     ]
    }
   ],
   "source": [
    "G_spec = defenses.spectral_add.Anon(G_original, [1000])"
   ]
  },
  {
   "cell_type": "markdown",
   "metadata": {},
   "source": [
    "# Utilities \n",
    "\n",
    "Measures of utility of the network. The first set of metrics are comparing a sequence of numbers for each of the two graphs for various graph metrics. For example, degree_dist compares the degree distribution of G and H. Returns the wasserstein distance and the two-sample Kolmogorov-Smirnov test for goodness of fit. "
   ]
  },
  {
   "cell_type": "code",
   "execution_count": 10,
   "metadata": {},
   "outputs": [],
   "source": [
    "def degree_dist(G,H):\n",
    "    seq1 = [G.degree(i) for i in G]\n",
    "    seq2 = [H.degree(i) for i in G]\n",
    "    was = sc.stats.wasserstein_distance(seq1, seq2)\n",
    "    ks = sc.stats.ks_2samp(seq1, seq2)\n",
    "    return was, ks\n",
    "\n",
    "def eig(G,H): \n",
    "    res1 = nx.eigenvector_centrality(G)\n",
    "    res2 = nx.eigenvector_centrality(H)\n",
    "    seq1 = [res1[i] for i in G]\n",
    "    seq2 = [res2[i] for i in H]\n",
    "    was = sc.stats.wasserstein_distance(seq1, seq2)\n",
    "    ks = sc.stats.ks_2samp(seq1, seq2)\n",
    "    return was, ks\n",
    "\n",
    "def closenss(G,H):\n",
    "    res1 = nx.closeness_centrality(G)\n",
    "    res2 = nx.closeness_centrality(H)\n",
    "    seq1 = [res1[i] for i in G]\n",
    "    seq2 = [res2[i] for i in H]\n",
    "    was = sc.stats.wasserstein_distance(seq1, seq2)\n",
    "    ks = sc.stats.ks_2samp(seq1, seq2)\n",
    "    return was, ks\n",
    "\n",
    "def between(G,H):\n",
    "    res1 = nx.betweenness_centrality(G)\n",
    "    res2 = nx.betweenness_centrality(H)\n",
    "    seq1 = [res1[i] for i in G]\n",
    "    seq2 = [res2[i] for i in H]\n",
    "    was = sc.stats.wasserstein_distance(seq1, seq2)\n",
    "    ks = sc.stats.ks_2samp(seq1, seq2)\n",
    "    return was, ks"
   ]
  },
  {
   "cell_type": "code",
   "execution_count": 11,
   "metadata": {},
   "outputs": [
    {
     "name": "stdout",
     "output_type": "stream",
     "text": [
      "(0.0006002526187760863, KstestResult(statistic=0.16716417910447762, pvalue=1.130289857756131e-12, statistic_location=0.00021684587410890417, statistic_sign=-1))\n",
      "(0.0004455855655264691, KstestResult(statistic=0.11442786069651742, pvalue=3.770369496769968e-06, statistic_location=0.00011371490872274195, statistic_sign=-1))\n",
      "(0.0004246579581761035, KstestResult(statistic=0.10746268656716418, pvalue=1.7922402554992486e-05, statistic_location=0.00023394005301053138, statistic_sign=-1))\n",
      "(0.0007450025589503347, KstestResult(statistic=0.1263681592039801, pvalue=2.0699906583306883e-07, statistic_location=0.000390946999007276, statistic_sign=-1))\n",
      "(0.0005153225467609462, KstestResult(statistic=0.12139303482587065, pvalue=7.185916361058893e-07, statistic_location=0.0004260281141896873, statistic_sign=-1))\n"
     ]
    }
   ],
   "source": [
    "print(between(G_original, Gs_proposed[0])) #k=1\n",
    "print(between(G_original, Gs_proposed[1])) #k=2\n",
    "print(between(G_original, Gs_proposed[2]))\n",
    "print(between(G_original, Gs_proposed[3]))\n",
    "print(between(G_original, Gs_proposed[4])) #k=5"
   ]
  },
  {
   "cell_type": "code",
   "execution_count": 12,
   "metadata": {},
   "outputs": [
    {
     "name": "stdout",
     "output_type": "stream",
     "text": [
      "(0.03136785799984929, KstestResult(statistic=0.1681592039800995, pvalue=8.058369769521991e-13, statistic_location=0.40915060138592546, statistic_sign=-1))\n",
      "(0.021534250715533283, KstestResult(statistic=0.15223880597014924, pvalue=1.4153305648164836e-10, statistic_location=0.3588412780367575, statistic_sign=1))\n",
      "(0.03081649114261062, KstestResult(statistic=0.2218905472636816, pvalue=4.39034418883969e-22, statistic_location=0.3921913805815698, statistic_sign=1))\n",
      "(0.0419441025291519, KstestResult(statistic=0.32338308457711445, pvalue=7.080246422020173e-47, statistic_location=0.4229144690385068, statistic_sign=1))\n",
      "(0.03391986247160898, KstestResult(statistic=0.2557213930348259, pvalue=2.845729235669352e-29, statistic_location=0.3921913805815698, statistic_sign=1))\n"
     ]
    }
   ],
   "source": [
    "print(closenss(G_original, Gs_proposed[0]))\n",
    "print(closenss(G_original, Gs_proposed[1]))\n",
    "print(closenss(G_original, Gs_proposed[2]))\n",
    "print(closenss(G_original, Gs_proposed[3]))\n",
    "print(closenss(G_original, Gs_proposed[4]))"
   ]
  },
  {
   "cell_type": "code",
   "execution_count": 13,
   "metadata": {},
   "outputs": [
    {
     "name": "stdout",
     "output_type": "stream",
     "text": [
      "(0.004958659531703251, KstestResult(statistic=0.23383084577114427, pvalue=1.6837276082713664e-24, statistic_location=0.0044377967635613235, statistic_sign=-1))\n",
      "(0.005982354238109239, KstestResult(statistic=0.24577114427860697, pvalue=4.769371704589657e-27, statistic_location=0.006719629816956542, statistic_sign=-1))\n",
      "(0.0017268484347391405, KstestResult(statistic=0.041791044776119404, pvalue=0.34408498537205134, statistic_location=0.006769741002611777, statistic_sign=-1))\n",
      "(0.0014163467039389863, KstestResult(statistic=0.07761194029850746, pvalue=0.004683748573161993, statistic_location=0.0013378747815336561, statistic_sign=1))\n",
      "(0.0025178872216035943, KstestResult(statistic=0.09651741293532339, pvalue=0.00017012893201228177, statistic_location=0.00304081862934812, statistic_sign=1))\n"
     ]
    }
   ],
   "source": [
    "print(eig(G_original, Gs_proposed[0]))\n",
    "print(eig(G_original, Gs_proposed[1]))\n",
    "print(eig(G_original, Gs_proposed[2]))\n",
    "print(eig(G_original, Gs_proposed[3]))\n",
    "print(eig(G_original, Gs_proposed[4]))"
   ]
  },
  {
   "cell_type": "code",
   "execution_count": 14,
   "metadata": {},
   "outputs": [
    {
     "name": "stdout",
     "output_type": "stream",
     "text": [
      "(9.79900497512438, KstestResult(statistic=0.23383084577114427, pvalue=1.6837276082713664e-24, statistic_location=18, statistic_sign=-1))\n",
      "(10.610945273631842, KstestResult(statistic=0.09253731343283582, pvalue=0.000363093919350327, statistic_location=88, statistic_sign=1))\n",
      "(9.39303482587065, KstestResult(statistic=0.09054726368159204, pvalue=0.0005240961511648864, statistic_location=63, statistic_sign=1))\n",
      "(4.837810945273636, KstestResult(statistic=0.04975124378109453, pvalue=0.16616548551573346, statistic_location=18, statistic_sign=-1))\n",
      "(4.314427860696519, KstestResult(statistic=0.04975124378109453, pvalue=0.16616548551573346, statistic_location=19, statistic_sign=-1))\n"
     ]
    }
   ],
   "source": [
    "print(degree_dist(G_original, Gs_proposed[0]))\n",
    "print(degree_dist(G_original, Gs_proposed[1]))\n",
    "print(degree_dist(G_original, Gs_proposed[2]))\n",
    "print(degree_dist(G_original, Gs_proposed[3]))\n",
    "print(degree_dist(G_original, Gs_proposed[4]))"
   ]
  },
  {
   "cell_type": "markdown",
   "metadata": {},
   "source": [
    "# Distance Vector \n",
    "\n",
    "## Unprotected "
   ]
  },
  {
   "cell_type": "code",
   "execution_count": 15,
   "metadata": {},
   "outputs": [],
   "source": [
    "dis_original = dis1.distance_vector_method(G_original, G_original)\n",
    "dis_original = to_map(dis_original)"
   ]
  },
  {
   "cell_type": "code",
   "execution_count": 16,
   "metadata": {},
   "outputs": [
    {
     "name": "stdout",
     "output_type": "stream",
     "text": [
      "1.0\n"
     ]
    }
   ],
   "source": [
    "print(scorer(len(G_original), dis_original))"
   ]
  },
  {
   "cell_type": "markdown",
   "metadata": {},
   "source": [
    "## Protected"
   ]
  },
  {
   "cell_type": "code",
   "execution_count": 17,
   "metadata": {},
   "outputs": [],
   "source": [
    "dis_rw = dis1.distance_vector_method(G_original, G_rw[0])\n",
    "dis_rw = to_map(dis_rw)"
   ]
  },
  {
   "cell_type": "code",
   "execution_count": 18,
   "metadata": {},
   "outputs": [
    {
     "name": "stdout",
     "output_type": "stream",
     "text": [
      "0.0626865671641791\n"
     ]
    }
   ],
   "source": [
    "print(scorer(len(G_original), dis_rw))"
   ]
  },
  {
   "cell_type": "code",
   "execution_count": 19,
   "metadata": {},
   "outputs": [],
   "source": [
    "dis_adddel = dis1.distance_vector_method(G_original, G_adddel) \n",
    "dis_adddel = to_map(dis_adddel)"
   ]
  },
  {
   "cell_type": "code",
   "execution_count": 20,
   "metadata": {},
   "outputs": [
    {
     "name": "stdout",
     "output_type": "stream",
     "text": [
      "1.0\n"
     ]
    }
   ],
   "source": [
    "print(scorer(len(G_original), dis_adddel))"
   ]
  },
  {
   "cell_type": "code",
   "execution_count": 21,
   "metadata": {},
   "outputs": [],
   "source": [
    "dis_spec = dis1.distance_vector_method(G_original, G_spec[0])\n",
    "dis_spec = to_map(dis_spec)"
   ]
  },
  {
   "cell_type": "code",
   "execution_count": 22,
   "metadata": {},
   "outputs": [
    {
     "name": "stdout",
     "output_type": "stream",
     "text": [
      "0.6676616915422886\n"
     ]
    }
   ],
   "source": [
    "print(scorer(len(G_original), dis_spec))"
   ]
  },
  {
   "cell_type": "code",
   "execution_count": 23,
   "metadata": {},
   "outputs": [
    {
     "name": "stdout",
     "output_type": "stream",
     "text": [
      "0.03980099502487562\n",
      "0.042786069651741296\n",
      "0.04079601990049751\n",
      "0.041791044776119404\n",
      "0.04079601990049751\n"
     ]
    }
   ],
   "source": [
    "for G in Gs_proposed:\n",
    "    G_answers = dis1.distance_vector_method(G_original, G)\n",
    "    G_answers = to_map(G_answers)\n",
    "    print(scorer(len(G_original), G_answers))"
   ]
  },
  {
   "cell_type": "markdown",
   "metadata": {},
   "source": [
    "# Propagation Method \n",
    "## Unprotected"
   ]
  },
  {
   "cell_type": "code",
   "execution_count": 24,
   "metadata": {},
   "outputs": [],
   "source": [
    "rw_original = prop.deAnon(G_original, G_original, {i : i for i in range(40)})"
   ]
  },
  {
   "cell_type": "code",
   "execution_count": 25,
   "metadata": {},
   "outputs": [
    {
     "data": {
      "text/plain": [
       "0.6746268656716418"
      ]
     },
     "execution_count": 25,
     "metadata": {},
     "output_type": "execute_result"
    }
   ],
   "source": [
    "scorer(len(G_original), rw_original)"
   ]
  },
  {
   "cell_type": "markdown",
   "metadata": {},
   "source": [
    "## Protected"
   ]
  },
  {
   "cell_type": "code",
   "execution_count": 26,
   "metadata": {},
   "outputs": [],
   "source": [
    "rw_answers = prop.deAnon(G_original, G_rw[0], {i : i for i in range(40)})"
   ]
  },
  {
   "cell_type": "code",
   "execution_count": 27,
   "metadata": {},
   "outputs": [
    {
     "data": {
      "text/plain": [
       "0.03980099502487562"
      ]
     },
     "execution_count": 27,
     "metadata": {},
     "output_type": "execute_result"
    }
   ],
   "source": [
    "scorer(len(G_original), rw_answers)"
   ]
  },
  {
   "cell_type": "code",
   "execution_count": 28,
   "metadata": {},
   "outputs": [
    {
     "name": "stdout",
     "output_type": "stream",
     "text": [
      "0.03980099502487562\n"
     ]
    }
   ],
   "source": [
    "prop.deAnon(G_original, G_spec[0], {i : i for i in range(40)})\n",
    "print(scorer(len(G_original), rw_answers))"
   ]
  },
  {
   "cell_type": "code",
   "execution_count": 29,
   "metadata": {},
   "outputs": [
    {
     "name": "stdout",
     "output_type": "stream",
     "text": [
      "0.03980099502487562\n",
      "0.03980099502487562\n",
      "0.03980099502487562\n",
      "0.03980099502487562\n",
      "0.03980099502487562\n"
     ]
    }
   ],
   "source": [
    "for G in Gs_proposed:\n",
    "    G_answers = prop.deAnon(G_original, G, {i : i for i in range(40)})\n",
    "    print(scorer(len(G_original), G_answers))"
   ]
  },
  {
   "cell_type": "markdown",
   "metadata": {},
   "source": [
    "# Alpha role sim\n",
    "\n",
    "## Unprotected"
   ]
  },
  {
   "cell_type": "code",
   "execution_count": 90,
   "metadata": {},
   "outputs": [],
   "source": [
    "answers0 = pd.read_csv(\"attack/alpha/result/alpha-rolesim++_pair.log\", header=None, sep=\" \")\n"
   ]
  },
  {
   "cell_type": "code",
   "execution_count": 91,
   "metadata": {},
   "outputs": [
    {
     "data": {
      "text/plain": [
       "0.8427860696517413"
      ]
     },
     "execution_count": 91,
     "metadata": {},
     "output_type": "execute_result"
    }
   ],
   "source": [
    "score = 0 \n",
    "for i in range(len(answers0)):\n",
    "    score += answers0.iloc[i][0]  == answers0.iloc[i][1]\n",
    "score/len(answers0)"
   ]
  },
  {
   "cell_type": "markdown",
   "metadata": {},
   "source": [
    "## Protected"
   ]
  },
  {
   "cell_type": "code",
   "execution_count": 89,
   "metadata": {},
   "outputs": [
    {
     "data": {
      "text/plain": [
       "16706"
      ]
     },
     "execution_count": 89,
     "metadata": {},
     "output_type": "execute_result"
    }
   ],
   "source": [
    "nx.number_of_edges(G_original)"
   ]
  },
  {
   "cell_type": "code",
   "execution_count": null,
   "metadata": {},
   "outputs": [],
   "source": [
    "nx.write_edgelist(G_original, \"rw.txt\", data= False)"
   ]
  },
  {
   "cell_type": "code",
   "execution_count": 60,
   "metadata": {},
   "outputs": [
    {
     "data": {
      "text/plain": [
       "1"
      ]
     },
     "execution_count": 60,
     "metadata": {},
     "output_type": "execute_result"
    }
   ],
   "source": [
    "## G_proposed 1\n",
    "\n",
    "answers1 = pd.read_csv(\"attack/alpha/result/alpha-rolesim++_pair.log\", header=None, sep=\" \")\n",
    "score = 0 \n",
    "for i in range(len(answers1)):\n",
    "    score += (answers1.iloc[i][0]  == answers1.iloc[i][1])\n",
    "score"
   ]
  },
  {
   "cell_type": "code",
   "execution_count": 64,
   "metadata": {},
   "outputs": [
    {
     "data": {
      "text/plain": [
       "1"
      ]
     },
     "execution_count": 64,
     "metadata": {},
     "output_type": "execute_result"
    }
   ],
   "source": [
    "## G_proposed 2\n",
    "answers2 = pd.read_csv(\"attack/alpha/result/alpha-rolesim++_pair.log\", header=None, sep=\" \")\n",
    "score = 0 \n",
    "for i in range(len(answers1)):\n",
    "    score += int(answers2.iloc[i][0]  == answers2.iloc[i][1])\n",
    "score"
   ]
  },
  {
   "cell_type": "code",
   "execution_count": 79,
   "metadata": {},
   "outputs": [
    {
     "data": {
      "text/plain": [
       "0"
      ]
     },
     "execution_count": 79,
     "metadata": {},
     "output_type": "execute_result"
    }
   ],
   "source": [
    "# G_proposed 3 \n",
    "answers3 = pd.read_csv(\"attack/alpha/result/alpha-rolesim++_pair.log\", header=None, sep=\" \")\n",
    "score = 0 \n",
    "for i in range(len(answers1)):\n",
    "    score += int(answers3.iloc[i][0]  == answers3.iloc[i][1])\n",
    "score"
   ]
  },
  {
   "cell_type": "code",
   "execution_count": 77,
   "metadata": {},
   "outputs": [
    {
     "data": {
      "text/plain": [
       "1"
      ]
     },
     "execution_count": 77,
     "metadata": {},
     "output_type": "execute_result"
    }
   ],
   "source": [
    "# G_proposed 4 \n",
    "answers4 = pd.read_csv(\"attack/alpha/result/alpha-rolesim++_pair.log\", header=None, sep=\" \")\n",
    "score = 0 \n",
    "for i in range(len(answers1)):\n",
    "    score += answers4.iloc[i][0]  == answers4.iloc[i][1]\n",
    "score"
   ]
  },
  {
   "cell_type": "code",
   "execution_count": 83,
   "metadata": {},
   "outputs": [
    {
     "data": {
      "text/plain": [
       "2"
      ]
     },
     "execution_count": 83,
     "metadata": {},
     "output_type": "execute_result"
    }
   ],
   "source": [
    "# G_proposed 5\n",
    "answers4 = pd.read_csv(\"attack/alpha/result/alpha-rolesim++_pair.log\", header=None, sep=\" \")\n",
    "score = 0 \n",
    "for i in range(len(answers1)):\n",
    "    score += answers4.iloc[i][0]  == answers4.iloc[i][1]\n",
    "score"
   ]
  },
  {
   "cell_type": "code",
   "execution_count": 87,
   "metadata": {},
   "outputs": [
    {
     "data": {
      "text/plain": [
       "1"
      ]
     },
     "execution_count": 87,
     "metadata": {},
     "output_type": "execute_result"
    }
   ],
   "source": [
    "## Random walk \n",
    "answersrw = pd.read_csv(\"attack/alpha/result/alpha-rolesim++_pair.log\", header=None, sep=\" \")\n",
    "score = 0 \n",
    "for i in range(len(answers1)):\n",
    "    score += int(answersrw.iloc[i][0]  == answersrw.iloc[i][1])\n",
    "score"
   ]
  },
  {
   "cell_type": "markdown",
   "metadata": {},
   "source": [
    "# Plotting "
   ]
  },
  {
   "cell_type": "code",
   "execution_count": 92,
   "metadata": {},
   "outputs": [],
   "source": [
    "def degSeq(G):\n",
    "    seq1 = pd.DataFrame([d[1] for d in nx.degree(G)], columns=[\"0\"])\n",
    "    seq1 = seq1.sort_values(by='0',ignore_index= True)\n",
    "    return seq1 \n",
    "\n",
    "def eigSeq(G):\n",
    "    seq1 = pd.DataFrame([d[1] for d in nx.eigenvector_centrality(G).items() ], columns=[\"0\"])\n",
    "    seq1 = seq1.sort_values(by='0',ignore_index= True)\n",
    "\n",
    "    return  seq1 \n",
    "\n",
    "def closenssSeq(G):\n",
    "    seq1 = pd.DataFrame( [d[1] for d in nx.closeness_centrality(G).items()], columns=[\"0\"])\n",
    "    seq1 = seq1.sort_values(by='0',ignore_index= True)\n",
    "\n",
    "    return seq1 \n",
    "\n",
    "def betweenSeq(G):\n",
    "    seq1 = pd.DataFrame([d[1] for d in nx.betweenness_centrality(G).items()], columns=[\"0\"])\n",
    "    seq1 = seq1.sort_values(by='0',ignore_index= True)\n",
    "\n",
    "    return  seq1 \n"
   ]
  },
  {
   "cell_type": "code",
   "execution_count": 93,
   "metadata": {},
   "outputs": [],
   "source": [
    "G_original_deg = degSeq(G_original)\n",
    "G_original_eig = eigSeq(G_original)\n",
    "G_original_close = closenssSeq(G_original)\n",
    "G_original_between = betweenSeq(G_original)\n",
    "\n",
    "G_rw_deg = degSeq(G_rw[0])\n",
    "G_rw_eig = eigSeq(G_rw[0])\n",
    "G_rw_close = closenssSeq(G_rw[0])\n",
    "G_rw_between = betweenSeq(G_rw[0])\n"
   ]
  },
  {
   "cell_type": "code",
   "execution_count": 94,
   "metadata": {},
   "outputs": [
    {
     "data": {
      "text/html": [
       "<div>\n",
       "<style scoped>\n",
       "    .dataframe tbody tr th:only-of-type {\n",
       "        vertical-align: middle;\n",
       "    }\n",
       "\n",
       "    .dataframe tbody tr th {\n",
       "        vertical-align: top;\n",
       "    }\n",
       "\n",
       "    .dataframe thead th {\n",
       "        text-align: right;\n",
       "    }\n",
       "</style>\n",
       "<table border=\"1\" class=\"dataframe\">\n",
       "  <thead>\n",
       "    <tr style=\"text-align: right;\">\n",
       "      <th></th>\n",
       "      <th>0</th>\n",
       "    </tr>\n",
       "  </thead>\n",
       "  <tbody>\n",
       "    <tr>\n",
       "      <th>0</th>\n",
       "      <td>0</td>\n",
       "    </tr>\n",
       "    <tr>\n",
       "      <th>1</th>\n",
       "      <td>0</td>\n",
       "    </tr>\n",
       "    <tr>\n",
       "      <th>2</th>\n",
       "      <td>0</td>\n",
       "    </tr>\n",
       "    <tr>\n",
       "      <th>3</th>\n",
       "      <td>0</td>\n",
       "    </tr>\n",
       "    <tr>\n",
       "      <th>4</th>\n",
       "      <td>0</td>\n",
       "    </tr>\n",
       "    <tr>\n",
       "      <th>...</th>\n",
       "      <td>...</td>\n",
       "    </tr>\n",
       "    <tr>\n",
       "      <th>1000</th>\n",
       "      <td>137</td>\n",
       "    </tr>\n",
       "    <tr>\n",
       "      <th>1001</th>\n",
       "      <td>146</td>\n",
       "    </tr>\n",
       "    <tr>\n",
       "      <th>1002</th>\n",
       "      <td>146</td>\n",
       "    </tr>\n",
       "    <tr>\n",
       "      <th>1003</th>\n",
       "      <td>147</td>\n",
       "    </tr>\n",
       "    <tr>\n",
       "      <th>1004</th>\n",
       "      <td>181</td>\n",
       "    </tr>\n",
       "  </tbody>\n",
       "</table>\n",
       "<p>1005 rows × 1 columns</p>\n",
       "</div>"
      ],
      "text/plain": [
       "        0\n",
       "0       0\n",
       "1       0\n",
       "2       0\n",
       "3       0\n",
       "4       0\n",
       "...   ...\n",
       "1000  137\n",
       "1001  146\n",
       "1002  146\n",
       "1003  147\n",
       "1004  181\n",
       "\n",
       "[1005 rows x 1 columns]"
      ]
     },
     "execution_count": 94,
     "metadata": {},
     "output_type": "execute_result"
    }
   ],
   "source": [
    "G_rw_deg"
   ]
  },
  {
   "cell_type": "code",
   "execution_count": 107,
   "metadata": {},
   "outputs": [],
   "source": [
    "deg_frame = pd.DataFrame(np.zeros((1005, 3)), columns=[\"Orginal\", \"RW\", \"prop\"])\n",
    "eig_frame = pd.DataFrame(np.zeros((1005, 3)), columns=[\"Orginal\", \"RW\", \"prop\"])\n",
    "bet_frame = pd.DataFrame(np.zeros((1005, 3)), columns=[\"Orginal\", \"RW\", \"prop\"])\n",
    "closenss_frame = pd.DataFrame(np.zeros((1005, 3)), columns=[\"Orginal\", \"RW\", \"prop\"])\n"
   ]
  },
  {
   "cell_type": "code",
   "execution_count": 114,
   "metadata": {},
   "outputs": [],
   "source": [
    "deg_frame[\"Orginal\"] = G_original_deg\n",
    "deg_frame[\"RW\"] = G_rw_deg\n",
    "deg_frame[\"prop\"] = degSeq(Gs_proposed[4])\n",
    "# for i in range(5):\n",
    "#     deg_frame[\"prop\" + str(i+1)] = degSeq(Gs_proposed[i])"
   ]
  },
  {
   "cell_type": "code",
   "execution_count": 115,
   "metadata": {},
   "outputs": [],
   "source": [
    "eig_frame[\"Orginal\"] = G_original_eig\n",
    "eig_frame[\"RW\"] = G_rw_eig\n",
    "eig_frame[\"prop\"] = eigSeq(Gs_proposed[4])\n",
    "# for i in range(5):\n",
    "#     eig_frame[\"prop\" + str(i+1)] = eigSeq(Gs_proposed[i])"
   ]
  },
  {
   "cell_type": "code",
   "execution_count": 116,
   "metadata": {},
   "outputs": [],
   "source": [
    "bet_frame[\"Orginal\"] = G_original_between\n",
    "bet_frame[\"RW\"] = G_rw_between\n",
    "bet_frame[\"prop\"] =  betweenSeq(Gs_proposed[4])\n",
    "# for i in range(5):\n",
    "#     bet_frame[\"prop\" + str(i+1)] = betweenSeq(Gs_proposed[i])"
   ]
  },
  {
   "cell_type": "code",
   "execution_count": 117,
   "metadata": {},
   "outputs": [],
   "source": [
    "closenss_frame[\"Orginal\"] = G_original_close\n",
    "closenss_frame[\"RW\"] = G_rw_close\n",
    "closenss_frame[\"prop\"] =  closenssSeq(Gs_proposed[4])\n",
    "# for i in range(5):\n",
    "#     closenss_frame[\"prop\" + str(i+1)] = closenssSeq(Gs_proposed[i])"
   ]
  },
  {
   "cell_type": "code",
   "execution_count": 118,
   "metadata": {},
   "outputs": [
    {
     "data": {
      "image/png": "[encoded data removed]",
      "text/plain": [
       "<Figure size 640x480 with 1 Axes>"
      ]
     },
     "metadata": {},
     "output_type": "display_data"
    }
   ],
   "source": [
    "%matplotlib inline\n",
    "deg_frame.plot()\n",
    "plt.show()"
   ]
  },
  {
   "cell_type": "code",
   "execution_count": 119,
   "metadata": {},
   "outputs": [
    {
     "data": {
      "image/png": "[encoded data removed]",
      "text/plain": [
       "<Figure size 640x480 with 1 Axes>"
      ]
     },
     "metadata": {},
     "output_type": "display_data"
    }
   ],
   "source": [
    "eig_frame.plot(ylabel=\"eigencentrality\")\n",
    "plt.show()"
   ]
  },
  {
   "cell_type": "code",
   "execution_count": 120,
   "metadata": {},
   "outputs": [
    {
     "data": {
      "image/png": "[encoded data removed]",
      "text/plain": [
       "<Figure size 640x480 with 1 Axes>"
      ]
     },
     "metadata": {},
     "output_type": "display_data"
    }
   ],
   "source": [
    "bet_frame.plot(ylabel=\"Betweenness\")\n",
    "plt.show()"
   ]
  },
  {
   "cell_type": "code",
   "execution_count": 121,
   "metadata": {},
   "outputs": [
    {
     "data": {
      "image/png": "[encoded data removed]",
      "text/plain": [
       "<Figure size 640x480 with 1 Axes>"
      ]
     },
     "metadata": {},
     "output_type": "display_data"
    }
   ],
   "source": [
    "closenss_frame.plot(ylabel=\"closeness\")\n",
    "plt.show()"
   ]
  },
  {
   "cell_type": "markdown",
   "metadata": {},
   "source": [
    "## Notes \n",
    "1. Larger ranks? Up 10 perhaps\n",
    "2. Perhaps consider average over runs \n",
    "3. Remove loners and do analysis on largest cc component \n",
    "4. All methods "
   ]
  },
  {
   "cell_type": "code",
   "execution_count": 122,
   "metadata": {},
   "outputs": [
    {
     "data": {
      "text/plain": [
       "986"
      ]
     },
     "execution_count": 122,
     "metadata": {},
     "output_type": "execute_result"
    }
   ],
   "source": [
    "A = nx.adjacency_matrix( G_original).todense()\n",
    "np.linalg.matrix_rank(A)"
   ]
  },
  {
   "cell_type": "code",
   "execution_count": 129,
   "metadata": {},
   "outputs": [
    {
     "name": "stdout",
     "output_type": "stream",
     "text": [
      "5.245903891456791\n",
      "nan\n",
      "nan\n",
      "nan\n",
      "nan\n",
      "nan\n",
      "nan\n",
      "nan\n",
      "nan\n",
      "nan\n",
      "nan\n",
      "nan\n",
      "nan\n",
      "nan\n",
      "nan\n",
      "nan\n",
      "nan\n",
      "nan\n",
      "nan\n",
      "nan\n"
     ]
    },
    {
     "name": "stderr",
     "output_type": "stream",
     "text": [
      "/var/folders/dg/qkdn3m7j5nb83sd6976cxrkr0000gn/T/ipykernel_93686/1162040598.py:7: RuntimeWarning: invalid value encountered in scalar divide\n",
      "  print( (np.linalg.norm(A, ord=\"fro\") / np.linalg.norm(A, ord=2) )**2  )\n"
     ]
    }
   ],
   "source": [
    "mx = 0\n",
    "idx = 0\n",
    "i = 0\n",
    "for S in nx.connected_components(G_original):\n",
    "    B = nx.subgraph(G, S)\n",
    "    A = nx.adjacency_matrix(B).todense() \n",
    "    print( (np.linalg.norm(A, ord=\"fro\") / np.linalg.norm(A, ord=2) )**2  ) ## stable rank \n",
    "    if(len(S) > mx ):\n",
    "        mx = len(S)\n",
    "        idx = i\n",
    "    i += 1"
   ]
  }
 ],
 "metadata": {
  "kernelspec": {
   "display_name": "coding",
   "language": "python",
   "name": "python3"
  },
  "language_info": {
   "codemirror_mode": {
    "name": "ipython",
    "version": 3
   },
   "file_extension": ".py",
   "mimetype": "text/x-python",
   "name": "python",
   "nbconvert_exporter": "python",
   "pygments_lexer": "ipython3",
   "version": "3.12.3"
  }
 },
 "nbformat": 4,
 "nbformat_minor": 2
}
